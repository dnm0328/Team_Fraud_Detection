{
 "cells": [
  {
   "cell_type": "code",
   "execution_count": 5,
   "metadata": {},
   "outputs": [],
   "source": [
    "import pandas as pd\n",
    "import numpy as np \n",
    "import pickle\n",
    "import scipy.stats as stats\n",
    "import matplotlib.pyplot as plt\n",
    "\n",
    "from sklearn import linear_model\n",
    "from scipy import stats\n",
    "import matplotlib.pyplot as plt\n",
    "#from sklearn.pipeline import Pipeline\n",
    "from sklearn.linear_model import LinearRegression, Lasso, Ridge, LogisticRegression\n",
    "from sklearn.preprocessing import PolynomialFeatures, StandardScaler\n",
    "from sklearn.model_selection import KFold, train_test_split, cross_val_score, GridSearchCV\n",
    "from sklearn.metrics import roc_auc_score, roc_curve, confusion_matrix, accuracy_score, mean_squared_error\n",
    "from sklearn.tree import export_graphviz, DecisionTreeClassifier, DecisionTreeRegressor\n",
    "from sklearn.ensemble import RandomForestClassifier, RandomForestRegressor, GradientBoostingRegressor\n",
    "from sklearn.decomposition import NMF\n",
    "from sklearn.feature_extraction.text import CountVectorizer, TfidfVectorizer\n",
    "from numpy.linalg import svd\n",
    "import seaborn as sns\n",
    "\n",
    "\n",
    "\n",
    "\n",
    "plt.style.use('ggplot')\n",
    "\n"
   ]
  },
  {
   "cell_type": "code",
   "execution_count": 83,
   "metadata": {},
   "outputs": [],
   "source": [
    "data = pd.read_json('data/data.json')"
   ]
  },
  {
   "cell_type": "code",
   "execution_count": 84,
   "metadata": {},
   "outputs": [
    {
     "data": {
      "text/plain": [
       "Index(['acct_type', 'approx_payout_date', 'body_length', 'channels', 'country',\n",
       "       'currency', 'delivery_method', 'description', 'email_domain',\n",
       "       'event_created', 'event_end', 'event_published', 'event_start',\n",
       "       'fb_published', 'gts', 'has_analytics', 'has_header', 'has_logo',\n",
       "       'listed', 'name', 'name_length', 'num_order', 'num_payouts',\n",
       "       'object_id', 'org_desc', 'org_facebook', 'org_name', 'org_twitter',\n",
       "       'payee_name', 'payout_type', 'previous_payouts', 'sale_duration',\n",
       "       'sale_duration2', 'show_map', 'ticket_types', 'user_age',\n",
       "       'user_created', 'user_type', 'venue_address', 'venue_country',\n",
       "       'venue_latitude', 'venue_longitude', 'venue_name', 'venue_state'],\n",
       "      dtype='object')"
      ]
     },
     "execution_count": 84,
     "metadata": {},
     "output_type": "execute_result"
    }
   ],
   "source": [
    "data.columns"
   ]
  },
  {
   "cell_type": "code",
   "execution_count": 85,
   "metadata": {},
   "outputs": [
    {
     "data": {
      "text/html": [
       "<div>\n",
       "<style scoped>\n",
       "    .dataframe tbody tr th:only-of-type {\n",
       "        vertical-align: middle;\n",
       "    }\n",
       "\n",
       "    .dataframe tbody tr th {\n",
       "        vertical-align: top;\n",
       "    }\n",
       "\n",
       "    .dataframe thead th {\n",
       "        text-align: right;\n",
       "    }\n",
       "</style>\n",
       "<table border=\"1\" class=\"dataframe\">\n",
       "  <thead>\n",
       "    <tr style=\"text-align: right;\">\n",
       "      <th></th>\n",
       "      <th>acct_type</th>\n",
       "      <th>approx_payout_date</th>\n",
       "      <th>body_length</th>\n",
       "      <th>channels</th>\n",
       "      <th>country</th>\n",
       "      <th>currency</th>\n",
       "      <th>delivery_method</th>\n",
       "      <th>description</th>\n",
       "      <th>email_domain</th>\n",
       "      <th>event_created</th>\n",
       "      <th>...</th>\n",
       "      <th>ticket_types</th>\n",
       "      <th>user_age</th>\n",
       "      <th>user_created</th>\n",
       "      <th>user_type</th>\n",
       "      <th>venue_address</th>\n",
       "      <th>venue_country</th>\n",
       "      <th>venue_latitude</th>\n",
       "      <th>venue_longitude</th>\n",
       "      <th>venue_name</th>\n",
       "      <th>venue_state</th>\n",
       "    </tr>\n",
       "  </thead>\n",
       "  <tbody>\n",
       "    <tr>\n",
       "      <th>14332</th>\n",
       "      <td>fraudster_event</td>\n",
       "      <td>1361689200</td>\n",
       "      <td>667</td>\n",
       "      <td>0</td>\n",
       "      <td>US</td>\n",
       "      <td>USD</td>\n",
       "      <td>0.0</td>\n",
       "      <td>&lt;p&gt;Celebrates this wonderful holiday with the ...</td>\n",
       "      <td>yahoo.com</td>\n",
       "      <td>1360297993</td>\n",
       "      <td>...</td>\n",
       "      <td>[{'event_id': 5456442, 'cost': 45.0, 'availabi...</td>\n",
       "      <td>0</td>\n",
       "      <td>1360297993</td>\n",
       "      <td>1</td>\n",
       "      <td>6100 North Charles Street</td>\n",
       "      <td>US</td>\n",
       "      <td>39.373780</td>\n",
       "      <td>-76.629921</td>\n",
       "      <td>Elkridge Club</td>\n",
       "      <td>MD</td>\n",
       "    </tr>\n",
       "    <tr>\n",
       "      <th>14333</th>\n",
       "      <td>premium</td>\n",
       "      <td>1365566400</td>\n",
       "      <td>5812</td>\n",
       "      <td>5</td>\n",
       "      <td>US</td>\n",
       "      <td>USD</td>\n",
       "      <td>1.0</td>\n",
       "      <td>&lt;table style=\"width: 600px;\" border=\"0\" cellsp...</td>\n",
       "      <td>me.com</td>\n",
       "      <td>1360367042</td>\n",
       "      <td>...</td>\n",
       "      <td>[{'event_id': 5465112, 'cost': 90.0, 'availabi...</td>\n",
       "      <td>1374</td>\n",
       "      <td>1241625346</td>\n",
       "      <td>4</td>\n",
       "      <td>1775 E Mission Bay Dr</td>\n",
       "      <td>US</td>\n",
       "      <td>32.778906</td>\n",
       "      <td>-117.209791</td>\n",
       "      <td>Hilton San Diego Resort and Spa (Hilton Missio...</td>\n",
       "      <td>CA</td>\n",
       "    </tr>\n",
       "    <tr>\n",
       "      <th>14334</th>\n",
       "      <td>premium</td>\n",
       "      <td>1368781200</td>\n",
       "      <td>557</td>\n",
       "      <td>13</td>\n",
       "      <td></td>\n",
       "      <td>USD</td>\n",
       "      <td>0.0</td>\n",
       "      <td>&lt;p&gt;What a way to start off your Mother's Day l...</td>\n",
       "      <td>yahoo.com</td>\n",
       "      <td>1360600330</td>\n",
       "      <td>...</td>\n",
       "      <td>[{'event_id': 5465732, 'cost': 20.0, 'availabi...</td>\n",
       "      <td>84</td>\n",
       "      <td>1353386971</td>\n",
       "      <td>4</td>\n",
       "      <td>5991 Bullard Road</td>\n",
       "      <td>US</td>\n",
       "      <td>30.041819</td>\n",
       "      <td>-89.957130</td>\n",
       "      <td>Fleur De Lis Ballroom NUMBER 2</td>\n",
       "      <td>LA</td>\n",
       "    </tr>\n",
       "    <tr>\n",
       "      <th>14335</th>\n",
       "      <td>tos_warn</td>\n",
       "      <td>1361361600</td>\n",
       "      <td>10873</td>\n",
       "      <td>8</td>\n",
       "      <td>US</td>\n",
       "      <td>USD</td>\n",
       "      <td>0.0</td>\n",
       "      <td>&lt;p style=\"font-family: 'Helvetica Neue', Helve...</td>\n",
       "      <td>velvetlist.com</td>\n",
       "      <td>1360376285</td>\n",
       "      <td>...</td>\n",
       "      <td>[{'event_id': 5465810, 'cost': 79.33, 'availab...</td>\n",
       "      <td>812</td>\n",
       "      <td>1290204991</td>\n",
       "      <td>3</td>\n",
       "      <td>2297 Cedar Ave</td>\n",
       "      <td>US</td>\n",
       "      <td>40.862283</td>\n",
       "      <td>-73.911363</td>\n",
       "      <td>Salsa con fuego</td>\n",
       "      <td>NY</td>\n",
       "    </tr>\n",
       "    <tr>\n",
       "      <th>14336</th>\n",
       "      <td>fraudster_event</td>\n",
       "      <td>1363316400</td>\n",
       "      <td>0</td>\n",
       "      <td>0</td>\n",
       "      <td>GB</td>\n",
       "      <td>GBP</td>\n",
       "      <td>0.0</td>\n",
       "      <td></td>\n",
       "      <td>gmail.com</td>\n",
       "      <td>1360686846</td>\n",
       "      <td>...</td>\n",
       "      <td>[{'event_id': 5492990, 'cost': 283.0, 'availab...</td>\n",
       "      <td>0</td>\n",
       "      <td>1360686845</td>\n",
       "      <td>1</td>\n",
       "      <td>192 Pembroke Street</td>\n",
       "      <td>GB</td>\n",
       "      <td>51.460131</td>\n",
       "      <td>-2.586503</td>\n",
       "      <td>massage salon private house</td>\n",
       "      <td>Bristol, City Of</td>\n",
       "    </tr>\n",
       "  </tbody>\n",
       "</table>\n",
       "<p>5 rows × 44 columns</p>\n",
       "</div>"
      ],
      "text/plain": [
       "             acct_type  approx_payout_date  body_length  channels country  \\\n",
       "14332  fraudster_event          1361689200          667         0      US   \n",
       "14333          premium          1365566400         5812         5      US   \n",
       "14334          premium          1368781200          557        13           \n",
       "14335         tos_warn          1361361600        10873         8      US   \n",
       "14336  fraudster_event          1363316400            0         0      GB   \n",
       "\n",
       "      currency  delivery_method  \\\n",
       "14332      USD              0.0   \n",
       "14333      USD              1.0   \n",
       "14334      USD              0.0   \n",
       "14335      USD              0.0   \n",
       "14336      GBP              0.0   \n",
       "\n",
       "                                             description    email_domain  \\\n",
       "14332  <p>Celebrates this wonderful holiday with the ...       yahoo.com   \n",
       "14333  <table style=\"width: 600px;\" border=\"0\" cellsp...          me.com   \n",
       "14334  <p>What a way to start off your Mother's Day l...       yahoo.com   \n",
       "14335  <p style=\"font-family: 'Helvetica Neue', Helve...  velvetlist.com   \n",
       "14336                                                          gmail.com   \n",
       "\n",
       "       event_created  ...                                       ticket_types  \\\n",
       "14332     1360297993  ...  [{'event_id': 5456442, 'cost': 45.0, 'availabi...   \n",
       "14333     1360367042  ...  [{'event_id': 5465112, 'cost': 90.0, 'availabi...   \n",
       "14334     1360600330  ...  [{'event_id': 5465732, 'cost': 20.0, 'availabi...   \n",
       "14335     1360376285  ...  [{'event_id': 5465810, 'cost': 79.33, 'availab...   \n",
       "14336     1360686846  ...  [{'event_id': 5492990, 'cost': 283.0, 'availab...   \n",
       "\n",
       "       user_age  user_created  user_type              venue_address  \\\n",
       "14332         0    1360297993          1  6100 North Charles Street   \n",
       "14333      1374    1241625346          4      1775 E Mission Bay Dr   \n",
       "14334        84    1353386971          4          5991 Bullard Road   \n",
       "14335       812    1290204991          3            2297 Cedar Ave    \n",
       "14336         0    1360686845          1        192 Pembroke Street   \n",
       "\n",
       "       venue_country  venue_latitude  venue_longitude  \\\n",
       "14332             US       39.373780       -76.629921   \n",
       "14333             US       32.778906      -117.209791   \n",
       "14334             US       30.041819       -89.957130   \n",
       "14335             US       40.862283       -73.911363   \n",
       "14336             GB       51.460131        -2.586503   \n",
       "\n",
       "                                              venue_name       venue_state  \n",
       "14332                                      Elkridge Club                MD  \n",
       "14333  Hilton San Diego Resort and Spa (Hilton Missio...                CA  \n",
       "14334                     Fleur De Lis Ballroom NUMBER 2                LA  \n",
       "14335                                   Salsa con fuego                 NY  \n",
       "14336                        massage salon private house  Bristol, City Of  \n",
       "\n",
       "[5 rows x 44 columns]"
      ]
     },
     "execution_count": 85,
     "metadata": {},
     "output_type": "execute_result"
    }
   ],
   "source": [
    "data.tail()"
   ]
  },
  {
   "cell_type": "code",
   "execution_count": 86,
   "metadata": {},
   "outputs": [
    {
     "data": {
      "text/html": [
       "<div>\n",
       "<style scoped>\n",
       "    .dataframe tbody tr th:only-of-type {\n",
       "        vertical-align: middle;\n",
       "    }\n",
       "\n",
       "    .dataframe tbody tr th {\n",
       "        vertical-align: top;\n",
       "    }\n",
       "\n",
       "    .dataframe thead th {\n",
       "        text-align: right;\n",
       "    }\n",
       "</style>\n",
       "<table border=\"1\" class=\"dataframe\">\n",
       "  <thead>\n",
       "    <tr style=\"text-align: right;\">\n",
       "      <th></th>\n",
       "      <th>approx_payout_date</th>\n",
       "      <th>body_length</th>\n",
       "      <th>channels</th>\n",
       "      <th>country</th>\n",
       "      <th>currency</th>\n",
       "      <th>delivery_method</th>\n",
       "      <th>description</th>\n",
       "      <th>email_domain</th>\n",
       "      <th>event_created</th>\n",
       "      <th>event_end</th>\n",
       "      <th>...</th>\n",
       "      <th>ticket_types</th>\n",
       "      <th>user_age</th>\n",
       "      <th>user_created</th>\n",
       "      <th>user_type</th>\n",
       "      <th>venue_address</th>\n",
       "      <th>venue_country</th>\n",
       "      <th>venue_latitude</th>\n",
       "      <th>venue_longitude</th>\n",
       "      <th>venue_name</th>\n",
       "      <th>venue_state</th>\n",
       "    </tr>\n",
       "    <tr>\n",
       "      <th>acct_type</th>\n",
       "      <th></th>\n",
       "      <th></th>\n",
       "      <th></th>\n",
       "      <th></th>\n",
       "      <th></th>\n",
       "      <th></th>\n",
       "      <th></th>\n",
       "      <th></th>\n",
       "      <th></th>\n",
       "      <th></th>\n",
       "      <th></th>\n",
       "      <th></th>\n",
       "      <th></th>\n",
       "      <th></th>\n",
       "      <th></th>\n",
       "      <th></th>\n",
       "      <th></th>\n",
       "      <th></th>\n",
       "      <th></th>\n",
       "      <th></th>\n",
       "      <th></th>\n",
       "    </tr>\n",
       "  </thead>\n",
       "  <tbody>\n",
       "    <tr>\n",
       "      <th>fraudster</th>\n",
       "      <td>437</td>\n",
       "      <td>437</td>\n",
       "      <td>437</td>\n",
       "      <td>437</td>\n",
       "      <td>437</td>\n",
       "      <td>425</td>\n",
       "      <td>437</td>\n",
       "      <td>437</td>\n",
       "      <td>437</td>\n",
       "      <td>437</td>\n",
       "      <td>...</td>\n",
       "      <td>437</td>\n",
       "      <td>437</td>\n",
       "      <td>437</td>\n",
       "      <td>437</td>\n",
       "      <td>437</td>\n",
       "      <td>330</td>\n",
       "      <td>330</td>\n",
       "      <td>330</td>\n",
       "      <td>330</td>\n",
       "      <td>330</td>\n",
       "    </tr>\n",
       "    <tr>\n",
       "      <th>fraudster_att</th>\n",
       "      <td>5</td>\n",
       "      <td>5</td>\n",
       "      <td>5</td>\n",
       "      <td>5</td>\n",
       "      <td>5</td>\n",
       "      <td>5</td>\n",
       "      <td>5</td>\n",
       "      <td>5</td>\n",
       "      <td>5</td>\n",
       "      <td>5</td>\n",
       "      <td>...</td>\n",
       "      <td>5</td>\n",
       "      <td>5</td>\n",
       "      <td>5</td>\n",
       "      <td>5</td>\n",
       "      <td>5</td>\n",
       "      <td>4</td>\n",
       "      <td>4</td>\n",
       "      <td>4</td>\n",
       "      <td>4</td>\n",
       "      <td>4</td>\n",
       "    </tr>\n",
       "    <tr>\n",
       "      <th>fraudster_event</th>\n",
       "      <td>851</td>\n",
       "      <td>851</td>\n",
       "      <td>851</td>\n",
       "      <td>851</td>\n",
       "      <td>851</td>\n",
       "      <td>851</td>\n",
       "      <td>851</td>\n",
       "      <td>851</td>\n",
       "      <td>851</td>\n",
       "      <td>851</td>\n",
       "      <td>...</td>\n",
       "      <td>851</td>\n",
       "      <td>851</td>\n",
       "      <td>851</td>\n",
       "      <td>851</td>\n",
       "      <td>851</td>\n",
       "      <td>589</td>\n",
       "      <td>589</td>\n",
       "      <td>589</td>\n",
       "      <td>589</td>\n",
       "      <td>589</td>\n",
       "    </tr>\n",
       "    <tr>\n",
       "      <th>locked</th>\n",
       "      <td>54</td>\n",
       "      <td>54</td>\n",
       "      <td>54</td>\n",
       "      <td>54</td>\n",
       "      <td>54</td>\n",
       "      <td>54</td>\n",
       "      <td>54</td>\n",
       "      <td>54</td>\n",
       "      <td>54</td>\n",
       "      <td>54</td>\n",
       "      <td>...</td>\n",
       "      <td>54</td>\n",
       "      <td>54</td>\n",
       "      <td>54</td>\n",
       "      <td>54</td>\n",
       "      <td>54</td>\n",
       "      <td>51</td>\n",
       "      <td>51</td>\n",
       "      <td>51</td>\n",
       "      <td>51</td>\n",
       "      <td>51</td>\n",
       "    </tr>\n",
       "    <tr>\n",
       "      <th>premium</th>\n",
       "      <td>12373</td>\n",
       "      <td>12373</td>\n",
       "      <td>12373</td>\n",
       "      <td>12297</td>\n",
       "      <td>12373</td>\n",
       "      <td>12369</td>\n",
       "      <td>12373</td>\n",
       "      <td>12373</td>\n",
       "      <td>12373</td>\n",
       "      <td>12373</td>\n",
       "      <td>...</td>\n",
       "      <td>12373</td>\n",
       "      <td>12373</td>\n",
       "      <td>12373</td>\n",
       "      <td>12373</td>\n",
       "      <td>12373</td>\n",
       "      <td>11700</td>\n",
       "      <td>11700</td>\n",
       "      <td>11700</td>\n",
       "      <td>11700</td>\n",
       "      <td>11700</td>\n",
       "    </tr>\n",
       "    <tr>\n",
       "      <th>spammer</th>\n",
       "      <td>1</td>\n",
       "      <td>1</td>\n",
       "      <td>1</td>\n",
       "      <td>1</td>\n",
       "      <td>1</td>\n",
       "      <td>1</td>\n",
       "      <td>1</td>\n",
       "      <td>1</td>\n",
       "      <td>1</td>\n",
       "      <td>1</td>\n",
       "      <td>...</td>\n",
       "      <td>1</td>\n",
       "      <td>1</td>\n",
       "      <td>1</td>\n",
       "      <td>1</td>\n",
       "      <td>1</td>\n",
       "      <td>1</td>\n",
       "      <td>1</td>\n",
       "      <td>1</td>\n",
       "      <td>1</td>\n",
       "      <td>1</td>\n",
       "    </tr>\n",
       "    <tr>\n",
       "      <th>spammer_limited</th>\n",
       "      <td>218</td>\n",
       "      <td>218</td>\n",
       "      <td>218</td>\n",
       "      <td>214</td>\n",
       "      <td>218</td>\n",
       "      <td>218</td>\n",
       "      <td>218</td>\n",
       "      <td>218</td>\n",
       "      <td>218</td>\n",
       "      <td>218</td>\n",
       "      <td>...</td>\n",
       "      <td>218</td>\n",
       "      <td>218</td>\n",
       "      <td>218</td>\n",
       "      <td>218</td>\n",
       "      <td>218</td>\n",
       "      <td>204</td>\n",
       "      <td>204</td>\n",
       "      <td>204</td>\n",
       "      <td>204</td>\n",
       "      <td>204</td>\n",
       "    </tr>\n",
       "    <tr>\n",
       "      <th>spammer_noinvite</th>\n",
       "      <td>84</td>\n",
       "      <td>84</td>\n",
       "      <td>84</td>\n",
       "      <td>84</td>\n",
       "      <td>84</td>\n",
       "      <td>84</td>\n",
       "      <td>84</td>\n",
       "      <td>84</td>\n",
       "      <td>84</td>\n",
       "      <td>84</td>\n",
       "      <td>...</td>\n",
       "      <td>84</td>\n",
       "      <td>84</td>\n",
       "      <td>84</td>\n",
       "      <td>84</td>\n",
       "      <td>84</td>\n",
       "      <td>82</td>\n",
       "      <td>82</td>\n",
       "      <td>82</td>\n",
       "      <td>82</td>\n",
       "      <td>82</td>\n",
       "    </tr>\n",
       "    <tr>\n",
       "      <th>spammer_warn</th>\n",
       "      <td>144</td>\n",
       "      <td>144</td>\n",
       "      <td>144</td>\n",
       "      <td>143</td>\n",
       "      <td>144</td>\n",
       "      <td>144</td>\n",
       "      <td>144</td>\n",
       "      <td>144</td>\n",
       "      <td>144</td>\n",
       "      <td>144</td>\n",
       "      <td>...</td>\n",
       "      <td>144</td>\n",
       "      <td>144</td>\n",
       "      <td>144</td>\n",
       "      <td>144</td>\n",
       "      <td>144</td>\n",
       "      <td>140</td>\n",
       "      <td>140</td>\n",
       "      <td>140</td>\n",
       "      <td>140</td>\n",
       "      <td>140</td>\n",
       "    </tr>\n",
       "    <tr>\n",
       "      <th>spammer_web</th>\n",
       "      <td>2</td>\n",
       "      <td>2</td>\n",
       "      <td>2</td>\n",
       "      <td>2</td>\n",
       "      <td>2</td>\n",
       "      <td>2</td>\n",
       "      <td>2</td>\n",
       "      <td>2</td>\n",
       "      <td>2</td>\n",
       "      <td>2</td>\n",
       "      <td>...</td>\n",
       "      <td>2</td>\n",
       "      <td>2</td>\n",
       "      <td>2</td>\n",
       "      <td>2</td>\n",
       "      <td>2</td>\n",
       "      <td>2</td>\n",
       "      <td>2</td>\n",
       "      <td>2</td>\n",
       "      <td>2</td>\n",
       "      <td>2</td>\n",
       "    </tr>\n",
       "    <tr>\n",
       "      <th>tos_lock</th>\n",
       "      <td>77</td>\n",
       "      <td>77</td>\n",
       "      <td>77</td>\n",
       "      <td>77</td>\n",
       "      <td>77</td>\n",
       "      <td>77</td>\n",
       "      <td>77</td>\n",
       "      <td>77</td>\n",
       "      <td>77</td>\n",
       "      <td>77</td>\n",
       "      <td>...</td>\n",
       "      <td>77</td>\n",
       "      <td>77</td>\n",
       "      <td>77</td>\n",
       "      <td>77</td>\n",
       "      <td>77</td>\n",
       "      <td>70</td>\n",
       "      <td>70</td>\n",
       "      <td>70</td>\n",
       "      <td>70</td>\n",
       "      <td>70</td>\n",
       "    </tr>\n",
       "    <tr>\n",
       "      <th>tos_warn</th>\n",
       "      <td>91</td>\n",
       "      <td>91</td>\n",
       "      <td>91</td>\n",
       "      <td>91</td>\n",
       "      <td>91</td>\n",
       "      <td>91</td>\n",
       "      <td>91</td>\n",
       "      <td>91</td>\n",
       "      <td>91</td>\n",
       "      <td>91</td>\n",
       "      <td>...</td>\n",
       "      <td>91</td>\n",
       "      <td>91</td>\n",
       "      <td>91</td>\n",
       "      <td>91</td>\n",
       "      <td>91</td>\n",
       "      <td>88</td>\n",
       "      <td>88</td>\n",
       "      <td>88</td>\n",
       "      <td>88</td>\n",
       "      <td>88</td>\n",
       "    </tr>\n",
       "  </tbody>\n",
       "</table>\n",
       "<p>12 rows × 43 columns</p>\n",
       "</div>"
      ],
      "text/plain": [
       "                  approx_payout_date  body_length  channels  country  \\\n",
       "acct_type                                                              \n",
       "fraudster                        437          437       437      437   \n",
       "fraudster_att                      5            5         5        5   \n",
       "fraudster_event                  851          851       851      851   \n",
       "locked                            54           54        54       54   \n",
       "premium                        12373        12373     12373    12297   \n",
       "spammer                            1            1         1        1   \n",
       "spammer_limited                  218          218       218      214   \n",
       "spammer_noinvite                  84           84        84       84   \n",
       "spammer_warn                     144          144       144      143   \n",
       "spammer_web                        2            2         2        2   \n",
       "tos_lock                          77           77        77       77   \n",
       "tos_warn                          91           91        91       91   \n",
       "\n",
       "                  currency  delivery_method  description  email_domain  \\\n",
       "acct_type                                                                \n",
       "fraudster              437              425          437           437   \n",
       "fraudster_att            5                5            5             5   \n",
       "fraudster_event        851              851          851           851   \n",
       "locked                  54               54           54            54   \n",
       "premium              12373            12369        12373         12373   \n",
       "spammer                  1                1            1             1   \n",
       "spammer_limited        218              218          218           218   \n",
       "spammer_noinvite        84               84           84            84   \n",
       "spammer_warn           144              144          144           144   \n",
       "spammer_web              2                2            2             2   \n",
       "tos_lock                77               77           77            77   \n",
       "tos_warn                91               91           91            91   \n",
       "\n",
       "                  event_created  event_end  ...  ticket_types  user_age  \\\n",
       "acct_type                                   ...                           \n",
       "fraudster                   437        437  ...           437       437   \n",
       "fraudster_att                 5          5  ...             5         5   \n",
       "fraudster_event             851        851  ...           851       851   \n",
       "locked                       54         54  ...            54        54   \n",
       "premium                   12373      12373  ...         12373     12373   \n",
       "spammer                       1          1  ...             1         1   \n",
       "spammer_limited             218        218  ...           218       218   \n",
       "spammer_noinvite             84         84  ...            84        84   \n",
       "spammer_warn                144        144  ...           144       144   \n",
       "spammer_web                   2          2  ...             2         2   \n",
       "tos_lock                     77         77  ...            77        77   \n",
       "tos_warn                     91         91  ...            91        91   \n",
       "\n",
       "                  user_created  user_type  venue_address  venue_country  \\\n",
       "acct_type                                                                 \n",
       "fraudster                  437        437            437            330   \n",
       "fraudster_att                5          5              5              4   \n",
       "fraudster_event            851        851            851            589   \n",
       "locked                      54         54             54             51   \n",
       "premium                  12373      12373          12373          11700   \n",
       "spammer                      1          1              1              1   \n",
       "spammer_limited            218        218            218            204   \n",
       "spammer_noinvite            84         84             84             82   \n",
       "spammer_warn               144        144            144            140   \n",
       "spammer_web                  2          2              2              2   \n",
       "tos_lock                    77         77             77             70   \n",
       "tos_warn                    91         91             91             88   \n",
       "\n",
       "                  venue_latitude  venue_longitude  venue_name  venue_state  \n",
       "acct_type                                                                   \n",
       "fraudster                    330              330         330          330  \n",
       "fraudster_att                  4                4           4            4  \n",
       "fraudster_event              589              589         589          589  \n",
       "locked                        51               51          51           51  \n",
       "premium                    11700            11700       11700        11700  \n",
       "spammer                        1                1           1            1  \n",
       "spammer_limited              204              204         204          204  \n",
       "spammer_noinvite              82               82          82           82  \n",
       "spammer_warn                 140              140         140          140  \n",
       "spammer_web                    2                2           2            2  \n",
       "tos_lock                      70               70          70           70  \n",
       "tos_warn                      88               88          88           88  \n",
       "\n",
       "[12 rows x 43 columns]"
      ]
     },
     "execution_count": 86,
     "metadata": {},
     "output_type": "execute_result"
    }
   ],
   "source": [
    "data.groupby('acct_type').count()"
   ]
  },
  {
   "cell_type": "code",
   "execution_count": 87,
   "metadata": {},
   "outputs": [],
   "source": [
    "#Add fraud column\n",
    "\n",
    "data['fraud']= data['acct_type'].str.contains('fraud')"
   ]
  },
  {
   "cell_type": "code",
   "execution_count": 88,
   "metadata": {},
   "outputs": [
    {
     "name": "stdout",
     "output_type": "stream",
     "text": [
      "<class 'pandas.core.frame.DataFrame'>\n",
      "RangeIndex: 14337 entries, 0 to 14336\n",
      "Data columns (total 45 columns):\n",
      " #   Column              Non-Null Count  Dtype  \n",
      "---  ------              --------------  -----  \n",
      " 0   acct_type           14337 non-null  object \n",
      " 1   approx_payout_date  14337 non-null  int64  \n",
      " 2   body_length         14337 non-null  int64  \n",
      " 3   channels            14337 non-null  int64  \n",
      " 4   country             14256 non-null  object \n",
      " 5   currency            14337 non-null  object \n",
      " 6   delivery_method     14321 non-null  float64\n",
      " 7   description         14337 non-null  object \n",
      " 8   email_domain        14337 non-null  object \n",
      " 9   event_created       14337 non-null  int64  \n",
      " 10  event_end           14337 non-null  int64  \n",
      " 11  event_published     14238 non-null  float64\n",
      " 12  event_start         14337 non-null  int64  \n",
      " 13  fb_published        14337 non-null  int64  \n",
      " 14  gts                 14337 non-null  float64\n",
      " 15  has_analytics       14337 non-null  int64  \n",
      " 16  has_header          8928 non-null   float64\n",
      " 17  has_logo            14337 non-null  int64  \n",
      " 18  listed              14337 non-null  object \n",
      " 19  name                14337 non-null  object \n",
      " 20  name_length         14337 non-null  int64  \n",
      " 21  num_order           14337 non-null  int64  \n",
      " 22  num_payouts         14337 non-null  int64  \n",
      " 23  object_id           14337 non-null  int64  \n",
      " 24  org_desc            14337 non-null  object \n",
      " 25  org_facebook        14278 non-null  float64\n",
      " 26  org_name            14337 non-null  object \n",
      " 27  org_twitter         14278 non-null  float64\n",
      " 28  payee_name          14337 non-null  object \n",
      " 29  payout_type         14337 non-null  object \n",
      " 30  previous_payouts    14337 non-null  object \n",
      " 31  sale_duration       14182 non-null  float64\n",
      " 32  sale_duration2      14337 non-null  int64  \n",
      " 33  show_map            14337 non-null  int64  \n",
      " 34  ticket_types        14337 non-null  object \n",
      " 35  user_age            14337 non-null  int64  \n",
      " 36  user_created        14337 non-null  int64  \n",
      " 37  user_type           14337 non-null  int64  \n",
      " 38  venue_address       14337 non-null  object \n",
      " 39  venue_country       13261 non-null  object \n",
      " 40  venue_latitude      13261 non-null  float64\n",
      " 41  venue_longitude     13261 non-null  float64\n",
      " 42  venue_name          13261 non-null  object \n",
      " 43  venue_state         13261 non-null  object \n",
      " 44  fraud               14337 non-null  bool   \n",
      "dtypes: bool(1), float64(9), int64(18), object(17)\n",
      "memory usage: 4.8+ MB\n"
     ]
    }
   ],
   "source": [
    "data.info()\n"
   ]
  },
  {
   "cell_type": "code",
   "execution_count": 89,
   "metadata": {},
   "outputs": [
    {
     "data": {
      "text/plain": [
       "False    13044\n",
       "True      1293\n",
       "Name: fraud, dtype: int64"
      ]
     },
     "execution_count": 89,
     "metadata": {},
     "output_type": "execute_result"
    }
   ],
   "source": [
    "data['fraud'].value_counts()"
   ]
  },
  {
   "cell_type": "code",
   "execution_count": null,
   "metadata": {},
   "outputs": [],
   "source": []
  },
  {
   "cell_type": "code",
   "execution_count": 94,
   "metadata": {},
   "outputs": [
    {
     "data": {
      "text/plain": [
       "[{'event_id': 493362,\n",
       "  'cost': 30.0,\n",
       "  'availability': 1,\n",
       "  'quantity_total': 240,\n",
       "  'quantity_sold': 12},\n",
       " {'event_id': 493362,\n",
       "  'cost': 10.0,\n",
       "  'availability': 1,\n",
       "  'quantity_total': 240,\n",
       "  'quantity_sold': 11}]"
      ]
     },
     "execution_count": 94,
     "metadata": {},
     "output_type": "execute_result"
    }
   ],
   "source": [
    "#Dave is going to break out this category\n",
    "\n",
    "data['ticket_types'][0]"
   ]
  },
  {
   "cell_type": "code",
   "execution_count": 52,
   "metadata": {},
   "outputs": [],
   "source": [
    "\n",
    "python"
   ]
  },
  {
   "cell_type": "code",
   "execution_count": 32,
   "metadata": {},
   "outputs": [],
   "source": [
    "from pandas_profiling import ProfileReport"
   ]
  },
  {
   "cell_type": "code",
   "execution_count": 34,
   "metadata": {},
   "outputs": [
    {
     "data": {
      "application/vnd.jupyter.widget-view+json": {
       "model_id": "c2baad6da2044253b68d6a51c2d52c18",
       "version_major": 2,
       "version_minor": 0
      },
      "text/plain": [
       "HBox(children=(HTML(value='Summarize dataset'), FloatProgress(value=0.0, max=59.0), HTML(value='')))"
      ]
     },
     "metadata": {},
     "output_type": "display_data"
    },
    {
     "name": "stdout",
     "output_type": "stream",
     "text": [
      "\n"
     ]
    },
    {
     "data": {
      "application/vnd.jupyter.widget-view+json": {
       "model_id": "a12a4481dc384cde869091b264cb0576",
       "version_major": 2,
       "version_minor": 0
      },
      "text/plain": [
       "HBox(children=(HTML(value='Generate report structure'), FloatProgress(value=0.0, max=1.0), HTML(value='')))"
      ]
     },
     "metadata": {},
     "output_type": "display_data"
    },
    {
     "name": "stdout",
     "output_type": "stream",
     "text": [
      "\n"
     ]
    },
    {
     "data": {
      "application/vnd.jupyter.widget-view+json": {
       "model_id": "6c6ae4c402ce4a8e801da59abe2b9398",
       "version_major": 2,
       "version_minor": 0
      },
      "text/plain": [
       "HBox(children=(HTML(value='Render HTML'), FloatProgress(value=0.0, max=1.0), HTML(value='')))"
      ]
     },
     "metadata": {},
     "output_type": "display_data"
    },
    {
     "name": "stdout",
     "output_type": "stream",
     "text": [
      "\n"
     ]
    },
    {
     "data": {
      "application/vnd.jupyter.widget-view+json": {
       "model_id": "646f4dc89c6e4bfc8144d16a4e703ff7",
       "version_major": 2,
       "version_minor": 0
      },
      "text/plain": [
       "HBox(children=(HTML(value='Export report to file'), FloatProgress(value=0.0, max=1.0), HTML(value='')))"
      ]
     },
     "metadata": {},
     "output_type": "display_data"
    },
    {
     "name": "stdout",
     "output_type": "stream",
     "text": [
      "\n"
     ]
    }
   ],
   "source": [
    "profile = ProfileReport(data, explorative = True)\n",
    "\n",
    "profile.to_file(\"fraud_cs.html\")"
   ]
  },
  {
   "cell_type": "code",
   "execution_count": 95,
   "metadata": {},
   "outputs": [
    {
     "data": {
      "text/html": [
       "<div>\n",
       "<style scoped>\n",
       "    .dataframe tbody tr th:only-of-type {\n",
       "        vertical-align: middle;\n",
       "    }\n",
       "\n",
       "    .dataframe tbody tr th {\n",
       "        vertical-align: top;\n",
       "    }\n",
       "\n",
       "    .dataframe thead th {\n",
       "        text-align: right;\n",
       "    }\n",
       "</style>\n",
       "<table border=\"1\" class=\"dataframe\">\n",
       "  <thead>\n",
       "    <tr style=\"text-align: right;\">\n",
       "      <th></th>\n",
       "      <th>acct_type</th>\n",
       "      <th>approx_payout_date</th>\n",
       "      <th>body_length</th>\n",
       "      <th>channels</th>\n",
       "      <th>country</th>\n",
       "      <th>currency</th>\n",
       "      <th>delivery_method</th>\n",
       "      <th>description</th>\n",
       "      <th>email_domain</th>\n",
       "      <th>event_created</th>\n",
       "      <th>...</th>\n",
       "      <th>user_age</th>\n",
       "      <th>user_created</th>\n",
       "      <th>user_type</th>\n",
       "      <th>venue_address</th>\n",
       "      <th>venue_country</th>\n",
       "      <th>venue_latitude</th>\n",
       "      <th>venue_longitude</th>\n",
       "      <th>venue_name</th>\n",
       "      <th>venue_state</th>\n",
       "      <th>fraud</th>\n",
       "    </tr>\n",
       "  </thead>\n",
       "  <tbody>\n",
       "    <tr>\n",
       "      <th>0</th>\n",
       "      <td>fraudster_event</td>\n",
       "      <td>1266062400</td>\n",
       "      <td>3852</td>\n",
       "      <td>5</td>\n",
       "      <td>US</td>\n",
       "      <td>USD</td>\n",
       "      <td>0.0</td>\n",
       "      <td>&lt;p&gt;&lt;a href=\"http://s432.photobucket.com/albums...</td>\n",
       "      <td>gmail.com</td>\n",
       "      <td>1262739706</td>\n",
       "      <td>...</td>\n",
       "      <td>36</td>\n",
       "      <td>1259613950</td>\n",
       "      <td>1</td>\n",
       "      <td>717 Washington Avenue</td>\n",
       "      <td>US</td>\n",
       "      <td>25.777471</td>\n",
       "      <td>-80.133433</td>\n",
       "      <td>INK Nightclub - South Beach</td>\n",
       "      <td>FL</td>\n",
       "      <td>True</td>\n",
       "    </tr>\n",
       "    <tr>\n",
       "      <th>1</th>\n",
       "      <td>premium</td>\n",
       "      <td>1296720000</td>\n",
       "      <td>3499</td>\n",
       "      <td>0</td>\n",
       "      <td>US</td>\n",
       "      <td>USD</td>\n",
       "      <td>1.0</td>\n",
       "      <td>&lt;p&gt;Join us for a quick, one-night, community-b...</td>\n",
       "      <td>ruf.org</td>\n",
       "      <td>1293832670</td>\n",
       "      <td>...</td>\n",
       "      <td>149</td>\n",
       "      <td>1280942776</td>\n",
       "      <td>3</td>\n",
       "      <td></td>\n",
       "      <td>US</td>\n",
       "      <td>32.776566</td>\n",
       "      <td>-79.930922</td>\n",
       "      <td>The Charleston, SC area</td>\n",
       "      <td>SC</td>\n",
       "      <td>False</td>\n",
       "    </tr>\n",
       "    <tr>\n",
       "      <th>2</th>\n",
       "      <td>premium</td>\n",
       "      <td>1296172800</td>\n",
       "      <td>2601</td>\n",
       "      <td>8</td>\n",
       "      <td>US</td>\n",
       "      <td>USD</td>\n",
       "      <td>1.0</td>\n",
       "      <td>&lt;h3&gt;&lt;span class=\"subcategory\"&gt;&lt;strong&gt;Teacher ...</td>\n",
       "      <td>pvsd.k12.ca.us</td>\n",
       "      <td>1291090956</td>\n",
       "      <td>...</td>\n",
       "      <td>214</td>\n",
       "      <td>1272559388</td>\n",
       "      <td>3</td>\n",
       "      <td>10100 Pioneer Blvd Suite 100</td>\n",
       "      <td>US</td>\n",
       "      <td>33.944201</td>\n",
       "      <td>-118.080419</td>\n",
       "      <td>Los Angeles County Office of Education</td>\n",
       "      <td>CA</td>\n",
       "      <td>False</td>\n",
       "    </tr>\n",
       "    <tr>\n",
       "      <th>3</th>\n",
       "      <td>premium</td>\n",
       "      <td>1388966400</td>\n",
       "      <td>12347</td>\n",
       "      <td>6</td>\n",
       "      <td>IE</td>\n",
       "      <td>EUR</td>\n",
       "      <td>1.0</td>\n",
       "      <td>&lt;p style=\"margin-bottom: 1.3em; padding-bottom...</td>\n",
       "      <td>irishtabletennis.com</td>\n",
       "      <td>1360681570</td>\n",
       "      <td>...</td>\n",
       "      <td>889</td>\n",
       "      <td>1283870102</td>\n",
       "      <td>3</td>\n",
       "      <td></td>\n",
       "      <td>None</td>\n",
       "      <td>NaN</td>\n",
       "      <td>NaN</td>\n",
       "      <td>None</td>\n",
       "      <td>None</td>\n",
       "      <td>False</td>\n",
       "    </tr>\n",
       "    <tr>\n",
       "      <th>4</th>\n",
       "      <td>premium</td>\n",
       "      <td>1297900800</td>\n",
       "      <td>2417</td>\n",
       "      <td>11</td>\n",
       "      <td>US</td>\n",
       "      <td>USD</td>\n",
       "      <td>0.0</td>\n",
       "      <td>&lt;p&gt;Writers and filmmakers need to understand t...</td>\n",
       "      <td>artsandbusinesscouncil.org</td>\n",
       "      <td>1291994666</td>\n",
       "      <td>...</td>\n",
       "      <td>35</td>\n",
       "      <td>1288984065</td>\n",
       "      <td>3</td>\n",
       "      <td>One Marina Park Drive</td>\n",
       "      <td>US</td>\n",
       "      <td>42.353848</td>\n",
       "      <td>-71.044276</td>\n",
       "      <td>Fish &amp; Richardson</td>\n",
       "      <td>MA</td>\n",
       "      <td>False</td>\n",
       "    </tr>\n",
       "  </tbody>\n",
       "</table>\n",
       "<p>5 rows × 45 columns</p>\n",
       "</div>"
      ],
      "text/plain": [
       "         acct_type  approx_payout_date  body_length  channels country  \\\n",
       "0  fraudster_event          1266062400         3852         5      US   \n",
       "1          premium          1296720000         3499         0      US   \n",
       "2          premium          1296172800         2601         8      US   \n",
       "3          premium          1388966400        12347         6      IE   \n",
       "4          premium          1297900800         2417        11      US   \n",
       "\n",
       "  currency  delivery_method  \\\n",
       "0      USD              0.0   \n",
       "1      USD              1.0   \n",
       "2      USD              1.0   \n",
       "3      EUR              1.0   \n",
       "4      USD              0.0   \n",
       "\n",
       "                                         description  \\\n",
       "0  <p><a href=\"http://s432.photobucket.com/albums...   \n",
       "1  <p>Join us for a quick, one-night, community-b...   \n",
       "2  <h3><span class=\"subcategory\"><strong>Teacher ...   \n",
       "3  <p style=\"margin-bottom: 1.3em; padding-bottom...   \n",
       "4  <p>Writers and filmmakers need to understand t...   \n",
       "\n",
       "                 email_domain  event_created  ...  user_age  user_created  \\\n",
       "0                   gmail.com     1262739706  ...        36    1259613950   \n",
       "1                     ruf.org     1293832670  ...       149    1280942776   \n",
       "2              pvsd.k12.ca.us     1291090956  ...       214    1272559388   \n",
       "3        irishtabletennis.com     1360681570  ...       889    1283870102   \n",
       "4  artsandbusinesscouncil.org     1291994666  ...        35    1288984065   \n",
       "\n",
       "   user_type                 venue_address  venue_country  venue_latitude  \\\n",
       "0          1         717 Washington Avenue             US       25.777471   \n",
       "1          3                                           US       32.776566   \n",
       "2          3  10100 Pioneer Blvd Suite 100             US       33.944201   \n",
       "3          3                                         None             NaN   \n",
       "4          3        One Marina Park Drive              US       42.353848   \n",
       "\n",
       "   venue_longitude                              venue_name venue_state  fraud  \n",
       "0       -80.133433             INK Nightclub - South Beach          FL   True  \n",
       "1       -79.930922                 The Charleston, SC area          SC  False  \n",
       "2      -118.080419  Los Angeles County Office of Education          CA  False  \n",
       "3              NaN                                    None        None  False  \n",
       "4       -71.044276                       Fish & Richardson          MA  False  \n",
       "\n",
       "[5 rows x 45 columns]"
      ]
     },
     "execution_count": 95,
     "metadata": {},
     "output_type": "execute_result"
    }
   ],
   "source": [
    "data.head()"
   ]
  },
  {
   "cell_type": "code",
   "execution_count": 96,
   "metadata": {},
   "outputs": [],
   "source": [
    "tickets = pd.read_csv('data/ticket_types.csv')"
   ]
  },
  {
   "cell_type": "code",
   "execution_count": 97,
   "metadata": {},
   "outputs": [],
   "source": [
    "new_df = pd.concat([data, tickets], axis=1, sort=False)"
   ]
  },
  {
   "cell_type": "code",
   "execution_count": 98,
   "metadata": {},
   "outputs": [
    {
     "data": {
      "text/html": [
       "<div>\n",
       "<style scoped>\n",
       "    .dataframe tbody tr th:only-of-type {\n",
       "        vertical-align: middle;\n",
       "    }\n",
       "\n",
       "    .dataframe tbody tr th {\n",
       "        vertical-align: top;\n",
       "    }\n",
       "\n",
       "    .dataframe thead th {\n",
       "        text-align: right;\n",
       "    }\n",
       "</style>\n",
       "<table border=\"1\" class=\"dataframe\">\n",
       "  <thead>\n",
       "    <tr style=\"text-align: right;\">\n",
       "      <th></th>\n",
       "      <th>acct_type</th>\n",
       "      <th>approx_payout_date</th>\n",
       "      <th>body_length</th>\n",
       "      <th>channels</th>\n",
       "      <th>country</th>\n",
       "      <th>currency</th>\n",
       "      <th>delivery_method</th>\n",
       "      <th>description</th>\n",
       "      <th>email_domain</th>\n",
       "      <th>event_created</th>\n",
       "      <th>...</th>\n",
       "      <th>venue_latitude</th>\n",
       "      <th>venue_longitude</th>\n",
       "      <th>venue_name</th>\n",
       "      <th>venue_state</th>\n",
       "      <th>fraud</th>\n",
       "      <th>event_id</th>\n",
       "      <th>cost</th>\n",
       "      <th>availability</th>\n",
       "      <th>quantity_total</th>\n",
       "      <th>quantity_sold</th>\n",
       "    </tr>\n",
       "  </thead>\n",
       "  <tbody>\n",
       "    <tr>\n",
       "      <th>0</th>\n",
       "      <td>fraudster_event</td>\n",
       "      <td>1266062400</td>\n",
       "      <td>3852</td>\n",
       "      <td>5</td>\n",
       "      <td>US</td>\n",
       "      <td>USD</td>\n",
       "      <td>0.0</td>\n",
       "      <td>&lt;p&gt;&lt;a href=\"http://s432.photobucket.com/albums...</td>\n",
       "      <td>gmail.com</td>\n",
       "      <td>1262739706</td>\n",
       "      <td>...</td>\n",
       "      <td>25.777471</td>\n",
       "      <td>-80.133433</td>\n",
       "      <td>INK Nightclub - South Beach</td>\n",
       "      <td>FL</td>\n",
       "      <td>True</td>\n",
       "      <td>527017.0</td>\n",
       "      <td>625.00</td>\n",
       "      <td>3.0</td>\n",
       "      <td>920.0</td>\n",
       "      <td>0</td>\n",
       "    </tr>\n",
       "    <tr>\n",
       "      <th>1</th>\n",
       "      <td>premium</td>\n",
       "      <td>1296720000</td>\n",
       "      <td>3499</td>\n",
       "      <td>0</td>\n",
       "      <td>US</td>\n",
       "      <td>USD</td>\n",
       "      <td>1.0</td>\n",
       "      <td>&lt;p&gt;Join us for a quick, one-night, community-b...</td>\n",
       "      <td>ruf.org</td>\n",
       "      <td>1293832670</td>\n",
       "      <td>...</td>\n",
       "      <td>32.776566</td>\n",
       "      <td>-79.930922</td>\n",
       "      <td>The Charleston, SC area</td>\n",
       "      <td>SC</td>\n",
       "      <td>False</td>\n",
       "      <td>786878.0</td>\n",
       "      <td>70.00</td>\n",
       "      <td>2.0</td>\n",
       "      <td>100.0</td>\n",
       "      <td>25</td>\n",
       "    </tr>\n",
       "    <tr>\n",
       "      <th>2</th>\n",
       "      <td>premium</td>\n",
       "      <td>1296172800</td>\n",
       "      <td>2601</td>\n",
       "      <td>8</td>\n",
       "      <td>US</td>\n",
       "      <td>USD</td>\n",
       "      <td>1.0</td>\n",
       "      <td>&lt;h3&gt;&lt;span class=\"subcategory\"&gt;&lt;strong&gt;Teacher ...</td>\n",
       "      <td>pvsd.k12.ca.us</td>\n",
       "      <td>1291090956</td>\n",
       "      <td>...</td>\n",
       "      <td>33.944201</td>\n",
       "      <td>-118.080419</td>\n",
       "      <td>Los Angeles County Office of Education</td>\n",
       "      <td>CA</td>\n",
       "      <td>False</td>\n",
       "      <td>787337.0</td>\n",
       "      <td>93.51</td>\n",
       "      <td>1.0</td>\n",
       "      <td>48.0</td>\n",
       "      <td>48</td>\n",
       "    </tr>\n",
       "    <tr>\n",
       "      <th>3</th>\n",
       "      <td>premium</td>\n",
       "      <td>1388966400</td>\n",
       "      <td>12347</td>\n",
       "      <td>6</td>\n",
       "      <td>IE</td>\n",
       "      <td>EUR</td>\n",
       "      <td>1.0</td>\n",
       "      <td>&lt;p style=\"margin-bottom: 1.3em; padding-bottom...</td>\n",
       "      <td>irishtabletennis.com</td>\n",
       "      <td>1360681570</td>\n",
       "      <td>...</td>\n",
       "      <td>NaN</td>\n",
       "      <td>NaN</td>\n",
       "      <td>None</td>\n",
       "      <td>None</td>\n",
       "      <td>False</td>\n",
       "      <td>885645.0</td>\n",
       "      <td>82.00</td>\n",
       "      <td>6.0</td>\n",
       "      <td>30000.0</td>\n",
       "      <td>58</td>\n",
       "    </tr>\n",
       "    <tr>\n",
       "      <th>4</th>\n",
       "      <td>premium</td>\n",
       "      <td>1297900800</td>\n",
       "      <td>2417</td>\n",
       "      <td>11</td>\n",
       "      <td>US</td>\n",
       "      <td>USD</td>\n",
       "      <td>0.0</td>\n",
       "      <td>&lt;p&gt;Writers and filmmakers need to understand t...</td>\n",
       "      <td>artsandbusinesscouncil.org</td>\n",
       "      <td>1291994666</td>\n",
       "      <td>...</td>\n",
       "      <td>42.353848</td>\n",
       "      <td>-71.044276</td>\n",
       "      <td>Fish &amp; Richardson</td>\n",
       "      <td>MA</td>\n",
       "      <td>False</td>\n",
       "      <td>1114349.0</td>\n",
       "      <td>814.00</td>\n",
       "      <td>8.0</td>\n",
       "      <td>264.0</td>\n",
       "      <td>39</td>\n",
       "    </tr>\n",
       "  </tbody>\n",
       "</table>\n",
       "<p>5 rows × 50 columns</p>\n",
       "</div>"
      ],
      "text/plain": [
       "         acct_type  approx_payout_date  body_length  channels country  \\\n",
       "0  fraudster_event          1266062400         3852         5      US   \n",
       "1          premium          1296720000         3499         0      US   \n",
       "2          premium          1296172800         2601         8      US   \n",
       "3          premium          1388966400        12347         6      IE   \n",
       "4          premium          1297900800         2417        11      US   \n",
       "\n",
       "  currency  delivery_method  \\\n",
       "0      USD              0.0   \n",
       "1      USD              1.0   \n",
       "2      USD              1.0   \n",
       "3      EUR              1.0   \n",
       "4      USD              0.0   \n",
       "\n",
       "                                         description  \\\n",
       "0  <p><a href=\"http://s432.photobucket.com/albums...   \n",
       "1  <p>Join us for a quick, one-night, community-b...   \n",
       "2  <h3><span class=\"subcategory\"><strong>Teacher ...   \n",
       "3  <p style=\"margin-bottom: 1.3em; padding-bottom...   \n",
       "4  <p>Writers and filmmakers need to understand t...   \n",
       "\n",
       "                 email_domain  event_created  ...  venue_latitude  \\\n",
       "0                   gmail.com     1262739706  ...       25.777471   \n",
       "1                     ruf.org     1293832670  ...       32.776566   \n",
       "2              pvsd.k12.ca.us     1291090956  ...       33.944201   \n",
       "3        irishtabletennis.com     1360681570  ...             NaN   \n",
       "4  artsandbusinesscouncil.org     1291994666  ...       42.353848   \n",
       "\n",
       "   venue_longitude                              venue_name  venue_state  \\\n",
       "0       -80.133433             INK Nightclub - South Beach           FL   \n",
       "1       -79.930922                 The Charleston, SC area           SC   \n",
       "2      -118.080419  Los Angeles County Office of Education           CA   \n",
       "3              NaN                                    None         None   \n",
       "4       -71.044276                       Fish & Richardson           MA   \n",
       "\n",
       "   fraud   event_id    cost  availability quantity_total quantity_sold  \n",
       "0   True   527017.0  625.00           3.0          920.0             0  \n",
       "1  False   786878.0   70.00           2.0          100.0            25  \n",
       "2  False   787337.0   93.51           1.0           48.0            48  \n",
       "3  False   885645.0   82.00           6.0        30000.0            58  \n",
       "4  False  1114349.0  814.00           8.0          264.0            39  \n",
       "\n",
       "[5 rows x 50 columns]"
      ]
     },
     "execution_count": 98,
     "metadata": {},
     "output_type": "execute_result"
    }
   ],
   "source": [
    "new_df.head()"
   ]
  },
  {
   "cell_type": "code",
   "execution_count": 99,
   "metadata": {},
   "outputs": [
    {
     "data": {
      "text/plain": [
       "0        [{'event_id': 527017, 'cost': 25.0, 'availabil...\n",
       "1        [{'event_id': 786878, 'cost': 35.0, 'availabil...\n",
       "2        [{'event_id': 787337, 'cost': 93.51, 'availabi...\n",
       "3        [{'event_id': 885645, 'cost': 25.0, 'availabil...\n",
       "4        [{'event_id': 1114349, 'cost': 150.0, 'availab...\n",
       "                               ...                        \n",
       "14332    [{'event_id': 5456442, 'cost': 45.0, 'availabi...\n",
       "14333    [{'event_id': 5465112, 'cost': 90.0, 'availabi...\n",
       "14334    [{'event_id': 5465732, 'cost': 20.0, 'availabi...\n",
       "14335    [{'event_id': 5465810, 'cost': 79.33, 'availab...\n",
       "14336    [{'event_id': 5492990, 'cost': 283.0, 'availab...\n",
       "Name: ticket_types, Length: 14337, dtype: object"
      ]
     },
     "execution_count": 99,
     "metadata": {},
     "output_type": "execute_result"
    }
   ],
   "source": [
    "new_df['ticket_types']"
   ]
  },
  {
   "cell_type": "code",
   "execution_count": null,
   "metadata": {},
   "outputs": [],
   "source": []
  },
  {
   "cell_type": "code",
   "execution_count": 47,
   "metadata": {},
   "outputs": [
    {
     "data": {
      "text/plain": [
       "8"
      ]
     },
     "execution_count": 47,
     "metadata": {},
     "output_type": "execute_result"
    }
   ],
   "source": [
    "'acct_type', 'approx_payout_date', 'body_length', 'channels', 'country',\n",
    "       'currency', 'delivery_method', 'description', 'email_domain',\n",
    "       'event_created', 'event_end', 'event_published', 'event_start',\n",
    "       'fb_published', 'gts', 'has_analytics', 'has_header', 'has_logo',\n",
    "       'listed', 'name', 'name_length', 'num_order', 'num_payouts',\n",
    "       'object_id', 'org_desc', 'org_facebook', 'org_name', 'org_twitter',\n",
    "       'payee_name', 'payout_type', 'previous_payouts', 'sale_duration',\n",
    "       'sale_duration2', 'show_map', 'ticket_types', 'user_age',\n",
    "       'user_created', 'user_type', 'venue_address', 'venue_country',\n",
    "       'venue_latitude', 'venue_longitude', 'venue_name', 'venue_state' \n",
    "    \n",
    "   #tickets_df[\"\"] = tickets_df[\"\"].fillna('0').replace('','0')\n",
    "    \n",
    "    \n",
    "    #data.previous_payouts = [len(i) for i in data.previous_payouts]"
   ]
  },
  {
   "cell_type": "code",
   "execution_count": 100,
   "metadata": {},
   "outputs": [],
   "source": [
    "drop_list = ['acct_type', 'body_length', 'channels', 'delivery_method', 'description',\n",
    "'email_domain', 'fb_published', 'gts', 'has_analytics', 'has_header', 'has_logo', 'object_id',\n",
    "'org_desc', 'org_facebook', 'org_name', 'org_twitter','payee_name','ticket_types', 'ticket_types',\n",
    "            'user_created', 'user_type','venue_country',\n",
    "       'venue_latitude', 'venue_longitude',  'venue_state']\n"
   ]
  },
  {
   "cell_type": "code",
   "execution_count": 102,
   "metadata": {},
   "outputs": [],
   "source": [
    "new_df.drop(['acct_type', 'body_length', 'channels', 'delivery_method', 'description','email_domain', 'fb_published', 'gts', 'has_analytics', 'has_header', 'has_logo', 'object_id','org_desc', 'org_facebook', 'org_name', 'org_twitter','payee_name','ticket_types', 'ticket_types',\n",
    "            'user_created', 'user_type','venue_country','venue_latitude', 'venue_longitude',  'venue_state'], axis=1, inplace =True)\n"
   ]
  },
  {
   "cell_type": "code",
   "execution_count": 103,
   "metadata": {},
   "outputs": [
    {
     "name": "stdout",
     "output_type": "stream",
     "text": [
      "<class 'pandas.core.frame.DataFrame'>\n",
      "RangeIndex: 14337 entries, 0 to 14336\n",
      "Data columns (total 26 columns):\n",
      " #   Column              Non-Null Count  Dtype  \n",
      "---  ------              --------------  -----  \n",
      " 0   approx_payout_date  14337 non-null  int64  \n",
      " 1   country             14256 non-null  object \n",
      " 2   currency            14337 non-null  object \n",
      " 3   event_created       14337 non-null  int64  \n",
      " 4   event_end           14337 non-null  int64  \n",
      " 5   event_published     14238 non-null  float64\n",
      " 6   event_start         14337 non-null  int64  \n",
      " 7   listed              14337 non-null  object \n",
      " 8   name                14337 non-null  object \n",
      " 9   name_length         14337 non-null  int64  \n",
      " 10  num_order           14337 non-null  int64  \n",
      " 11  num_payouts         14337 non-null  int64  \n",
      " 12  payout_type         14337 non-null  object \n",
      " 13  previous_payouts    14337 non-null  object \n",
      " 14  sale_duration       14182 non-null  float64\n",
      " 15  sale_duration2      14337 non-null  int64  \n",
      " 16  show_map            14337 non-null  int64  \n",
      " 17  user_age            14337 non-null  int64  \n",
      " 18  venue_address       14337 non-null  object \n",
      " 19  venue_name          13261 non-null  object \n",
      " 20  fraud               14337 non-null  bool   \n",
      " 21  event_id            14249 non-null  float64\n",
      " 22  cost                13839 non-null  float64\n",
      " 23  availability        14249 non-null  float64\n",
      " 24  quantity_total      14337 non-null  float64\n",
      " 25  quantity_sold       14337 non-null  int64  \n",
      "dtypes: bool(1), float64(6), int64(11), object(8)\n",
      "memory usage: 2.7+ MB\n"
     ]
    }
   ],
   "source": [
    "new_df.info()"
   ]
  },
  {
   "cell_type": "code",
   "execution_count": 105,
   "metadata": {},
   "outputs": [],
   "source": [
    "new_df['previous_payouts'] = [len(i) for i in data['previous_payouts']]"
   ]
  },
  {
   "cell_type": "code",
   "execution_count": 106,
   "metadata": {},
   "outputs": [
    {
     "data": {
      "text/plain": [
       "0          0\n",
       "1         49\n",
       "2         36\n",
       "3         21\n",
       "4         49\n",
       "        ... \n",
       "14332      0\n",
       "14333      5\n",
       "14334      1\n",
       "14335    128\n",
       "14336      0\n",
       "Name: previous_payouts, Length: 14337, dtype: int64"
      ]
     },
     "execution_count": 106,
     "metadata": {},
     "output_type": "execute_result"
    }
   ],
   "source": [
    "new_df['previous_payouts']"
   ]
  },
  {
   "cell_type": "code",
   "execution_count": 108,
   "metadata": {},
   "outputs": [
    {
     "data": {
      "text/plain": [
       "ACH      10666\n",
       "CHECK     3178\n",
       "           493\n",
       "Name: payout_type, dtype: int64"
      ]
     },
     "execution_count": 108,
     "metadata": {},
     "output_type": "execute_result"
    }
   ],
   "source": [
    "new_df['payout_type'].value_counts()"
   ]
  },
  {
   "cell_type": "code",
   "execution_count": 110,
   "metadata": {},
   "outputs": [],
   "source": [
    "new_df.drop(['listed', 'name', 'name_length', 'event_created', 'event_end', 'event_published', 'event_start'], axis = 1, inplace =True)"
   ]
  },
  {
   "cell_type": "code",
   "execution_count": 111,
   "metadata": {},
   "outputs": [
    {
     "name": "stdout",
     "output_type": "stream",
     "text": [
      "<class 'pandas.core.frame.DataFrame'>\n",
      "RangeIndex: 14337 entries, 0 to 14336\n",
      "Data columns (total 19 columns):\n",
      " #   Column              Non-Null Count  Dtype  \n",
      "---  ------              --------------  -----  \n",
      " 0   approx_payout_date  14337 non-null  int64  \n",
      " 1   country             14256 non-null  object \n",
      " 2   currency            14337 non-null  object \n",
      " 3   num_order           14337 non-null  int64  \n",
      " 4   num_payouts         14337 non-null  int64  \n",
      " 5   payout_type         14337 non-null  object \n",
      " 6   previous_payouts    14337 non-null  int64  \n",
      " 7   sale_duration       14182 non-null  float64\n",
      " 8   sale_duration2      14337 non-null  int64  \n",
      " 9   show_map            14337 non-null  int64  \n",
      " 10  user_age            14337 non-null  int64  \n",
      " 11  venue_address       14337 non-null  object \n",
      " 12  venue_name          13261 non-null  object \n",
      " 13  fraud               14337 non-null  bool   \n",
      " 14  event_id            14249 non-null  float64\n",
      " 15  cost                13839 non-null  float64\n",
      " 16  availability        14249 non-null  float64\n",
      " 17  quantity_total      14337 non-null  float64\n",
      " 18  quantity_sold       14337 non-null  int64  \n",
      "dtypes: bool(1), float64(5), int64(8), object(5)\n",
      "memory usage: 2.0+ MB\n"
     ]
    }
   ],
   "source": [
    "new_df.info()"
   ]
  },
  {
   "cell_type": "code",
   "execution_count": 112,
   "metadata": {},
   "outputs": [],
   "source": [
    "new_df.to_csv('reduced_df.csv', index=False)"
   ]
  },
  {
   "cell_type": "code",
   "execution_count": 114,
   "metadata": {},
   "outputs": [],
   "source": [
    "reduced_df = pd.read_csv('data/reduced_df.csv') "
   ]
  },
  {
   "cell_type": "code",
   "execution_count": 115,
   "metadata": {},
   "outputs": [
    {
     "data": {
      "text/html": [
       "<div>\n",
       "<style scoped>\n",
       "    .dataframe tbody tr th:only-of-type {\n",
       "        vertical-align: middle;\n",
       "    }\n",
       "\n",
       "    .dataframe tbody tr th {\n",
       "        vertical-align: top;\n",
       "    }\n",
       "\n",
       "    .dataframe thead th {\n",
       "        text-align: right;\n",
       "    }\n",
       "</style>\n",
       "<table border=\"1\" class=\"dataframe\">\n",
       "  <thead>\n",
       "    <tr style=\"text-align: right;\">\n",
       "      <th></th>\n",
       "      <th>approx_payout_date</th>\n",
       "      <th>country</th>\n",
       "      <th>currency</th>\n",
       "      <th>num_order</th>\n",
       "      <th>num_payouts</th>\n",
       "      <th>payout_type</th>\n",
       "      <th>previous_payouts</th>\n",
       "      <th>sale_duration</th>\n",
       "      <th>sale_duration2</th>\n",
       "      <th>show_map</th>\n",
       "      <th>user_age</th>\n",
       "      <th>venue_address</th>\n",
       "      <th>venue_name</th>\n",
       "      <th>fraud</th>\n",
       "      <th>event_id</th>\n",
       "      <th>cost</th>\n",
       "      <th>availability</th>\n",
       "      <th>quantity_total</th>\n",
       "      <th>quantity_sold</th>\n",
       "    </tr>\n",
       "  </thead>\n",
       "  <tbody>\n",
       "    <tr>\n",
       "      <th>0</th>\n",
       "      <td>1266062400</td>\n",
       "      <td>US</td>\n",
       "      <td>USD</td>\n",
       "      <td>0</td>\n",
       "      <td>0</td>\n",
       "      <td>NaN</td>\n",
       "      <td>0</td>\n",
       "      <td>29.0</td>\n",
       "      <td>33</td>\n",
       "      <td>1</td>\n",
       "      <td>36</td>\n",
       "      <td>717 Washington Avenue</td>\n",
       "      <td>INK Nightclub - South Beach</td>\n",
       "      <td>True</td>\n",
       "      <td>527017.0</td>\n",
       "      <td>625.00</td>\n",
       "      <td>3.0</td>\n",
       "      <td>920.0</td>\n",
       "      <td>0</td>\n",
       "    </tr>\n",
       "    <tr>\n",
       "      <th>1</th>\n",
       "      <td>1296720000</td>\n",
       "      <td>US</td>\n",
       "      <td>USD</td>\n",
       "      <td>23</td>\n",
       "      <td>1</td>\n",
       "      <td>CHECK</td>\n",
       "      <td>49</td>\n",
       "      <td>28.0</td>\n",
       "      <td>28</td>\n",
       "      <td>0</td>\n",
       "      <td>149</td>\n",
       "      <td>NaN</td>\n",
       "      <td>The Charleston, SC area</td>\n",
       "      <td>False</td>\n",
       "      <td>786878.0</td>\n",
       "      <td>70.00</td>\n",
       "      <td>2.0</td>\n",
       "      <td>100.0</td>\n",
       "      <td>25</td>\n",
       "    </tr>\n",
       "    <tr>\n",
       "      <th>2</th>\n",
       "      <td>1296172800</td>\n",
       "      <td>US</td>\n",
       "      <td>USD</td>\n",
       "      <td>19</td>\n",
       "      <td>4</td>\n",
       "      <td>CHECK</td>\n",
       "      <td>36</td>\n",
       "      <td>54.0</td>\n",
       "      <td>54</td>\n",
       "      <td>0</td>\n",
       "      <td>214</td>\n",
       "      <td>10100 Pioneer Blvd Suite 100</td>\n",
       "      <td>Los Angeles County Office of Education</td>\n",
       "      <td>False</td>\n",
       "      <td>787337.0</td>\n",
       "      <td>93.51</td>\n",
       "      <td>1.0</td>\n",
       "      <td>48.0</td>\n",
       "      <td>48</td>\n",
       "    </tr>\n",
       "    <tr>\n",
       "      <th>3</th>\n",
       "      <td>1388966400</td>\n",
       "      <td>IE</td>\n",
       "      <td>EUR</td>\n",
       "      <td>39</td>\n",
       "      <td>16</td>\n",
       "      <td>ACH</td>\n",
       "      <td>21</td>\n",
       "      <td>0.0</td>\n",
       "      <td>0</td>\n",
       "      <td>0</td>\n",
       "      <td>889</td>\n",
       "      <td>NaN</td>\n",
       "      <td>NaN</td>\n",
       "      <td>False</td>\n",
       "      <td>885645.0</td>\n",
       "      <td>82.00</td>\n",
       "      <td>6.0</td>\n",
       "      <td>30000.0</td>\n",
       "      <td>58</td>\n",
       "    </tr>\n",
       "    <tr>\n",
       "      <th>4</th>\n",
       "      <td>1297900800</td>\n",
       "      <td>US</td>\n",
       "      <td>USD</td>\n",
       "      <td>30</td>\n",
       "      <td>0</td>\n",
       "      <td>CHECK</td>\n",
       "      <td>49</td>\n",
       "      <td>63.0</td>\n",
       "      <td>63</td>\n",
       "      <td>0</td>\n",
       "      <td>35</td>\n",
       "      <td>One Marina Park Drive</td>\n",
       "      <td>Fish &amp; Richardson</td>\n",
       "      <td>False</td>\n",
       "      <td>1114349.0</td>\n",
       "      <td>814.00</td>\n",
       "      <td>8.0</td>\n",
       "      <td>264.0</td>\n",
       "      <td>39</td>\n",
       "    </tr>\n",
       "  </tbody>\n",
       "</table>\n",
       "</div>"
      ],
      "text/plain": [
       "   approx_payout_date country currency  num_order  num_payouts payout_type  \\\n",
       "0          1266062400      US      USD          0            0         NaN   \n",
       "1          1296720000      US      USD         23            1       CHECK   \n",
       "2          1296172800      US      USD         19            4       CHECK   \n",
       "3          1388966400      IE      EUR         39           16         ACH   \n",
       "4          1297900800      US      USD         30            0       CHECK   \n",
       "\n",
       "   previous_payouts  sale_duration  sale_duration2  show_map  user_age  \\\n",
       "0                 0           29.0              33         1        36   \n",
       "1                49           28.0              28         0       149   \n",
       "2                36           54.0              54         0       214   \n",
       "3                21            0.0               0         0       889   \n",
       "4                49           63.0              63         0        35   \n",
       "\n",
       "                  venue_address                              venue_name  \\\n",
       "0         717 Washington Avenue             INK Nightclub - South Beach   \n",
       "1                           NaN                 The Charleston, SC area   \n",
       "2  10100 Pioneer Blvd Suite 100  Los Angeles County Office of Education   \n",
       "3                           NaN                                     NaN   \n",
       "4        One Marina Park Drive                        Fish & Richardson   \n",
       "\n",
       "   fraud   event_id    cost  availability  quantity_total  quantity_sold  \n",
       "0   True   527017.0  625.00           3.0           920.0              0  \n",
       "1  False   786878.0   70.00           2.0           100.0             25  \n",
       "2  False   787337.0   93.51           1.0            48.0             48  \n",
       "3  False   885645.0   82.00           6.0         30000.0             58  \n",
       "4  False  1114349.0  814.00           8.0           264.0             39  "
      ]
     },
     "execution_count": 115,
     "metadata": {},
     "output_type": "execute_result"
    }
   ],
   "source": [
    "reduced_df.head()"
   ]
  },
  {
   "cell_type": "code",
   "execution_count": 116,
   "metadata": {},
   "outputs": [],
   "source": [
    "# fraud column to ones and zeros\n",
    "\n",
    "reduced_df[\"fraud\"] = reduced_df[\"fraud\"].astype(int)"
   ]
  },
  {
   "cell_type": "code",
   "execution_count": 119,
   "metadata": {},
   "outputs": [
    {
     "data": {
      "text/plain": [
       "(14337, 19)"
      ]
     },
     "execution_count": 119,
     "metadata": {},
     "output_type": "execute_result"
    }
   ],
   "source": [
    "reduced_df.shape"
   ]
  },
  {
   "cell_type": "code",
   "execution_count": 124,
   "metadata": {},
   "outputs": [
    {
     "data": {
      "text/plain": [
       "array([ 625.  ,   70.  ,   93.51, ...,  649.65, 1107.17,  346.  ])"
      ]
     },
     "execution_count": 124,
     "metadata": {},
     "output_type": "execute_result"
    }
   ],
   "source": [
    "reduced_df['cost']"
   ]
  },
  {
   "cell_type": "code",
   "execution_count": null,
   "metadata": {},
   "outputs": [],
   "source": [
    "#more to drop.  \n",
    "\n",
    "event_id, venue_address"
   ]
  },
  {
   "cell_type": "code",
   "execution_count": 128,
   "metadata": {},
   "outputs": [],
   "source": [
    "#Categorical w/NAN\n",
    "reduced_df['country'] = reduced_df['country'].fillna('NoName')\n",
    "reduced_df['venue_name'] = reduced_df['venue_name'].fillna('NoName')\n",
    "reduced_df['payout_type'] = reduced_df['payout_type'].fillna('Unknown')\n",
    "\n",
    "\n",
    "\n",
    "#Continuous w/ NAN\n",
    "reduced_df['sale_duration'] = reduced_df['sale_duration'].fillna(0)\n",
    "reduced_df['availability'] = reduced_df['availability'].fillna(0)\n",
    "reduced_df['cost'] = reduced_df['cost'].fillna(0)\n",
    "reduced_df['event_id'] = reduced_df['event_id'].fillna('NoId')"
   ]
  },
  {
   "cell_type": "code",
   "execution_count": 129,
   "metadata": {},
   "outputs": [
    {
     "name": "stdout",
     "output_type": "stream",
     "text": [
      "<class 'pandas.core.frame.DataFrame'>\n",
      "RangeIndex: 14337 entries, 0 to 14336\n",
      "Data columns (total 19 columns):\n",
      " #   Column              Non-Null Count  Dtype  \n",
      "---  ------              --------------  -----  \n",
      " 0   approx_payout_date  14337 non-null  int64  \n",
      " 1   country             14337 non-null  object \n",
      " 2   currency            14337 non-null  object \n",
      " 3   num_order           14337 non-null  int64  \n",
      " 4   num_payouts         14337 non-null  int64  \n",
      " 5   payout_type         14337 non-null  object \n",
      " 6   previous_payouts    14337 non-null  int64  \n",
      " 7   sale_duration       14337 non-null  float64\n",
      " 8   sale_duration2      14337 non-null  int64  \n",
      " 9   show_map            14337 non-null  int64  \n",
      " 10  user_age            14337 non-null  int64  \n",
      " 11  venue_address       12166 non-null  object \n",
      " 12  venue_name          14337 non-null  object \n",
      " 13  fraud               14337 non-null  int64  \n",
      " 14  event_id            14337 non-null  object \n",
      " 15  cost                14337 non-null  float64\n",
      " 16  availability        14337 non-null  float64\n",
      " 17  quantity_total      14337 non-null  float64\n",
      " 18  quantity_sold       14337 non-null  int64  \n",
      "dtypes: float64(4), int64(9), object(6)\n",
      "memory usage: 2.1+ MB\n"
     ]
    }
   ],
   "source": [
    "reduced_df.info()"
   ]
  },
  {
   "cell_type": "code",
   "execution_count": 131,
   "metadata": {},
   "outputs": [],
   "source": [
    "reduced_df.drop(['event_id', 'venue_address'], axis =1, inplace = True)"
   ]
  },
  {
   "cell_type": "code",
   "execution_count": 132,
   "metadata": {},
   "outputs": [
    {
     "name": "stdout",
     "output_type": "stream",
     "text": [
      "<class 'pandas.core.frame.DataFrame'>\n",
      "RangeIndex: 14337 entries, 0 to 14336\n",
      "Data columns (total 17 columns):\n",
      " #   Column              Non-Null Count  Dtype  \n",
      "---  ------              --------------  -----  \n",
      " 0   approx_payout_date  14337 non-null  int64  \n",
      " 1   country             14337 non-null  object \n",
      " 2   currency            14337 non-null  object \n",
      " 3   num_order           14337 non-null  int64  \n",
      " 4   num_payouts         14337 non-null  int64  \n",
      " 5   payout_type         14337 non-null  object \n",
      " 6   previous_payouts    14337 non-null  int64  \n",
      " 7   sale_duration       14337 non-null  float64\n",
      " 8   sale_duration2      14337 non-null  int64  \n",
      " 9   show_map            14337 non-null  int64  \n",
      " 10  user_age            14337 non-null  int64  \n",
      " 11  venue_name          14337 non-null  object \n",
      " 12  fraud               14337 non-null  int64  \n",
      " 13  cost                14337 non-null  float64\n",
      " 14  availability        14337 non-null  float64\n",
      " 15  quantity_total      14337 non-null  float64\n",
      " 16  quantity_sold       14337 non-null  int64  \n",
      "dtypes: float64(4), int64(9), object(4)\n",
      "memory usage: 1.9+ MB\n"
     ]
    }
   ],
   "source": [
    "reduced_df.info()"
   ]
  },
  {
   "cell_type": "code",
   "execution_count": 136,
   "metadata": {},
   "outputs": [
    {
     "data": {
      "text/plain": [
       "4"
      ]
     },
     "execution_count": 136,
     "metadata": {},
     "output_type": "execute_result"
    }
   ],
   "source": [
    "2+2"
   ]
  },
  {
   "cell_type": "code",
   "execution_count": 137,
   "metadata": {},
   "outputs": [],
   "source": [
    "reduced_df['venue_name'] = reduced_df['venue_name'] == 'NoName'\n",
    "reduced_df['venue_name'] = reduced_df['venue_name'].astype(int)"
   ]
  },
  {
   "cell_type": "code",
   "execution_count": 138,
   "metadata": {},
   "outputs": [
    {
     "data": {
      "text/plain": [
       "(14337, 17)"
      ]
     },
     "execution_count": 138,
     "metadata": {},
     "output_type": "execute_result"
    }
   ],
   "source": [
    "reduced_df.shape"
   ]
  },
  {
   "cell_type": "code",
   "execution_count": 140,
   "metadata": {},
   "outputs": [
    {
     "name": "stdout",
     "output_type": "stream",
     "text": [
      "<class 'pandas.core.frame.DataFrame'>\n",
      "RangeIndex: 14337 entries, 0 to 14336\n",
      "Data columns (total 17 columns):\n",
      " #   Column              Non-Null Count  Dtype  \n",
      "---  ------              --------------  -----  \n",
      " 0   approx_payout_date  14337 non-null  int64  \n",
      " 1   country             14337 non-null  object \n",
      " 2   currency            14337 non-null  object \n",
      " 3   num_order           14337 non-null  int64  \n",
      " 4   num_payouts         14337 non-null  int64  \n",
      " 5   payout_type         14337 non-null  object \n",
      " 6   previous_payouts    14337 non-null  int64  \n",
      " 7   sale_duration       14337 non-null  float64\n",
      " 8   sale_duration2      14337 non-null  int64  \n",
      " 9   show_map            14337 non-null  int64  \n",
      " 10  user_age            14337 non-null  int64  \n",
      " 11  venue_name          14337 non-null  int64  \n",
      " 12  fraud               14337 non-null  int64  \n",
      " 13  cost                14337 non-null  float64\n",
      " 14  availability        14337 non-null  float64\n",
      " 15  quantity_total      14337 non-null  float64\n",
      " 16  quantity_sold       14337 non-null  int64  \n",
      "dtypes: float64(4), int64(10), object(3)\n",
      "memory usage: 1.9+ MB\n"
     ]
    }
   ],
   "source": [
    "reduced_df.info()"
   ]
  },
  {
   "cell_type": "code",
   "execution_count": 143,
   "metadata": {},
   "outputs": [],
   "source": [
    "currency = reduced_df.currency\n",
    "currency_df = pd.get_dummies(currency)\n",
    "payout = reduced_df.payout_type\n",
    "payout_df = pd.get_dummies(payout)\n",
    "country = reduced_df.country\n",
    "country_df = pd.get_dummies(country)"
   ]
  },
  {
   "cell_type": "code",
   "execution_count": 144,
   "metadata": {},
   "outputs": [],
   "source": [
    "df1 = pd.concat([reduced_df, currency_df, payout_df, country_df], axis=1, sort=False)"
   ]
  },
  {
   "cell_type": "code",
   "execution_count": 145,
   "metadata": {},
   "outputs": [
    {
     "name": "stdout",
     "output_type": "stream",
     "text": [
      "<class 'pandas.core.frame.DataFrame'>\n",
      "RangeIndex: 14337 entries, 0 to 14336\n",
      "Data columns (total 98 columns):\n",
      " #   Column              Non-Null Count  Dtype  \n",
      "---  ------              --------------  -----  \n",
      " 0   approx_payout_date  14337 non-null  int64  \n",
      " 1   country             14337 non-null  object \n",
      " 2   currency            14337 non-null  object \n",
      " 3   num_order           14337 non-null  int64  \n",
      " 4   num_payouts         14337 non-null  int64  \n",
      " 5   payout_type         14337 non-null  object \n",
      " 6   previous_payouts    14337 non-null  int64  \n",
      " 7   sale_duration       14337 non-null  float64\n",
      " 8   sale_duration2      14337 non-null  int64  \n",
      " 9   show_map            14337 non-null  int64  \n",
      " 10  user_age            14337 non-null  int64  \n",
      " 11  venue_name          14337 non-null  int64  \n",
      " 12  fraud               14337 non-null  int64  \n",
      " 13  cost                14337 non-null  float64\n",
      " 14  availability        14337 non-null  float64\n",
      " 15  quantity_total      14337 non-null  float64\n",
      " 16  quantity_sold       14337 non-null  int64  \n",
      " 17  AUD                 14337 non-null  uint8  \n",
      " 18  CAD                 14337 non-null  uint8  \n",
      " 19  EUR                 14337 non-null  uint8  \n",
      " 20  GBP                 14337 non-null  uint8  \n",
      " 21  MXN                 14337 non-null  uint8  \n",
      " 22  NZD                 14337 non-null  uint8  \n",
      " 23  USD                 14337 non-null  uint8  \n",
      " 24  ACH                 14337 non-null  uint8  \n",
      " 25  CHECK               14337 non-null  uint8  \n",
      " 26  Unknown             14337 non-null  uint8  \n",
      " 27  A1                  14337 non-null  uint8  \n",
      " 28  AE                  14337 non-null  uint8  \n",
      " 29  AR                  14337 non-null  uint8  \n",
      " 30  AT                  14337 non-null  uint8  \n",
      " 31  AU                  14337 non-null  uint8  \n",
      " 32  BB                  14337 non-null  uint8  \n",
      " 33  BE                  14337 non-null  uint8  \n",
      " 34  BG                  14337 non-null  uint8  \n",
      " 35  BS                  14337 non-null  uint8  \n",
      " 36  CA                  14337 non-null  uint8  \n",
      " 37  CH                  14337 non-null  uint8  \n",
      " 38  CI                  14337 non-null  uint8  \n",
      " 39  CM                  14337 non-null  uint8  \n",
      " 40  CN                  14337 non-null  uint8  \n",
      " 41  CO                  14337 non-null  uint8  \n",
      " 42  CR                  14337 non-null  uint8  \n",
      " 43  CZ                  14337 non-null  uint8  \n",
      " 44  DE                  14337 non-null  uint8  \n",
      " 45  DK                  14337 non-null  uint8  \n",
      " 46  DZ                  14337 non-null  uint8  \n",
      " 47  EC                  14337 non-null  uint8  \n",
      " 48  ES                  14337 non-null  uint8  \n",
      " 49  FI                  14337 non-null  uint8  \n",
      " 50  FR                  14337 non-null  uint8  \n",
      " 51  GB                  14337 non-null  uint8  \n",
      " 52  GH                  14337 non-null  uint8  \n",
      " 53  GR                  14337 non-null  uint8  \n",
      " 54  HR                  14337 non-null  uint8  \n",
      " 55  HU                  14337 non-null  uint8  \n",
      " 56  ID                  14337 non-null  uint8  \n",
      " 57  IE                  14337 non-null  uint8  \n",
      " 58  IL                  14337 non-null  uint8  \n",
      " 59  IM                  14337 non-null  uint8  \n",
      " 60  IN                  14337 non-null  uint8  \n",
      " 61  IS                  14337 non-null  uint8  \n",
      " 62  IT                  14337 non-null  uint8  \n",
      " 63  JE                  14337 non-null  uint8  \n",
      " 64  JM                  14337 non-null  uint8  \n",
      " 65  KE                  14337 non-null  uint8  \n",
      " 66  KH                  14337 non-null  uint8  \n",
      " 67  LB                  14337 non-null  uint8  \n",
      " 68  MA                  14337 non-null  uint8  \n",
      " 69  MX                  14337 non-null  uint8  \n",
      " 70  MY                  14337 non-null  uint8  \n",
      " 71  NG                  14337 non-null  uint8  \n",
      " 72  NI                  14337 non-null  uint8  \n",
      " 73  NL                  14337 non-null  uint8  \n",
      " 74  NZ                  14337 non-null  uint8  \n",
      " 75  NoName              14337 non-null  uint8  \n",
      " 76  PE                  14337 non-null  uint8  \n",
      " 77  PH                  14337 non-null  uint8  \n",
      " 78  PK                  14337 non-null  uint8  \n",
      " 79  PR                  14337 non-null  uint8  \n",
      " 80  PS                  14337 non-null  uint8  \n",
      " 81  PT                  14337 non-null  uint8  \n",
      " 82  QA                  14337 non-null  uint8  \n",
      " 83  RO                  14337 non-null  uint8  \n",
      " 84  RS                  14337 non-null  uint8  \n",
      " 85  RU                  14337 non-null  uint8  \n",
      " 86  SE                  14337 non-null  uint8  \n",
      " 87  SG                  14337 non-null  uint8  \n",
      " 88  SI                  14337 non-null  uint8  \n",
      " 89  TH                  14337 non-null  uint8  \n",
      " 90  TJ                  14337 non-null  uint8  \n",
      " 91  TR                  14337 non-null  uint8  \n",
      " 92  US                  14337 non-null  uint8  \n",
      " 93  UY                  14337 non-null  uint8  \n",
      " 94  VE                  14337 non-null  uint8  \n",
      " 95  VI                  14337 non-null  uint8  \n",
      " 96  VN                  14337 non-null  uint8  \n",
      " 97  ZA                  14337 non-null  uint8  \n",
      "dtypes: float64(4), int64(10), object(3), uint8(81)\n",
      "memory usage: 3.0+ MB\n"
     ]
    }
   ],
   "source": [
    "df1.info()"
   ]
  },
  {
   "cell_type": "code",
   "execution_count": 146,
   "metadata": {},
   "outputs": [],
   "source": [
    "df1.drop(['country', 'currency', 'payout_type'], axis=1, inplace=True)"
   ]
  },
  {
   "cell_type": "code",
   "execution_count": 147,
   "metadata": {},
   "outputs": [
    {
     "data": {
      "text/plain": [
       "(14337, 95)"
      ]
     },
     "execution_count": 147,
     "metadata": {},
     "output_type": "execute_result"
    }
   ],
   "source": [
    "df1.shape"
   ]
  },
  {
   "cell_type": "code",
   "execution_count": 148,
   "metadata": {},
   "outputs": [
    {
     "data": {
      "text/plain": [
       "0    13044\n",
       "1     1293\n",
       "Name: fraud, dtype: int64"
      ]
     },
     "execution_count": 148,
     "metadata": {},
     "output_type": "execute_result"
    }
   ],
   "source": [
    "df1['fraud'].value_counts()   # 10:1 imbalance class"
   ]
  },
  {
   "cell_type": "code",
   "execution_count": null,
   "metadata": {},
   "outputs": [],
   "source": []
  },
  {
   "cell_type": "code",
   "execution_count": null,
   "metadata": {},
   "outputs": [],
   "source": [
    "#EDA on final df"
   ]
  },
  {
   "cell_type": "code",
   "execution_count": null,
   "metadata": {},
   "outputs": [],
   "source": []
  },
  {
   "cell_type": "code",
   "execution_count": null,
   "metadata": {},
   "outputs": [],
   "source": []
  },
  {
   "cell_type": "code",
   "execution_count": null,
   "metadata": {},
   "outputs": [],
   "source": []
  },
  {
   "cell_type": "code",
   "execution_count": null,
   "metadata": {},
   "outputs": [],
   "source": [
    "#sns.histplot(ratings['rating'], bins = 10); "
   ]
  },
  {
   "cell_type": "code",
   "execution_count": 150,
   "metadata": {},
   "outputs": [],
   "source": [
    "from imblearn.over_sampling import SMOTE\n",
    "from collections import Counter"
   ]
  },
  {
   "cell_type": "code",
   "execution_count": 163,
   "metadata": {},
   "outputs": [],
   "source": [
    "y = df1['fraud']\n",
    "X = df1.drop('fraud', axis=1)\n"
   ]
  },
  {
   "cell_type": "code",
   "execution_count": null,
   "metadata": {},
   "outputs": [],
   "source": []
  },
  {
   "cell_type": "code",
   "execution_count": 164,
   "metadata": {},
   "outputs": [],
   "source": [
    "X_train, X_test, y_train, y_test = train_test_split(X, y, test_size=0.2, random_state=42, stratify = y)  "
   ]
  },
  {
   "cell_type": "code",
   "execution_count": 165,
   "metadata": {},
   "outputs": [],
   "source": [
    "oversample = SMOTE()\n",
    "X_train, y_train = oversample.fit_resample(X_train, y_train)"
   ]
  },
  {
   "cell_type": "code",
   "execution_count": 183,
   "metadata": {},
   "outputs": [
    {
     "data": {
      "text/plain": [
       "(2868,)"
      ]
     },
     "execution_count": 183,
     "metadata": {},
     "output_type": "execute_result"
    }
   ],
   "source": [
    "y_test.shape"
   ]
  },
  {
   "cell_type": "code",
   "execution_count": 168,
   "metadata": {},
   "outputs": [
    {
     "data": {
      "text/plain": [
       "Counter({1: 10435, 0: 10435})"
      ]
     },
     "execution_count": 168,
     "metadata": {},
     "output_type": "execute_result"
    }
   ],
   "source": [
    "Counter(y_train)"
   ]
  },
  {
   "cell_type": "code",
   "execution_count": 169,
   "metadata": {},
   "outputs": [
    {
     "data": {
      "text/plain": [
       "Counter({0: 2609, 1: 259})"
      ]
     },
     "execution_count": 169,
     "metadata": {},
     "output_type": "execute_result"
    }
   ],
   "source": [
    "Counter(y_test)"
   ]
  },
  {
   "cell_type": "code",
   "execution_count": 177,
   "metadata": {},
   "outputs": [
    {
     "data": {
      "text/plain": [
       "0.8929567642956764"
      ]
     },
     "execution_count": 177,
     "metadata": {},
     "output_type": "execute_result"
    }
   ],
   "source": [
    "logisticRegr = LogisticRegression()\n",
    "logisticRegr.fit(X_train, y_train)\n",
    "y_pred = logisticRegr.predict(X_test)\n",
    "score = logisticRegr.score(X_test, y_test)\n",
    "score"
   ]
  },
  {
   "cell_type": "code",
   "execution_count": 178,
   "metadata": {},
   "outputs": [
    {
     "data": {
      "text/plain": [
       "array([[2556,   53],\n",
       "       [ 254,    5]])"
      ]
     },
     "execution_count": 178,
     "metadata": {},
     "output_type": "execute_result"
    }
   ],
   "source": [
    "confusion_matrix(y_test, predictions)\n"
   ]
  },
  {
   "cell_type": "code",
   "execution_count": null,
   "metadata": {},
   "outputs": [],
   "source": []
  },
  {
   "cell_type": "code",
   "execution_count": 179,
   "metadata": {},
   "outputs": [],
   "source": [
    "\n",
    "from sklearn.metrics import classification_report\n",
    "from sklearn.metrics import confusion_matrix\n"
   ]
  },
  {
   "cell_type": "code",
   "execution_count": 180,
   "metadata": {},
   "outputs": [
    {
     "name": "stdout",
     "output_type": "stream",
     "text": [
      "              precision    recall  f1-score   support\n",
      "\n",
      "           0       0.91      0.98      0.94      2609\n",
      "           1       0.09      0.02      0.03       259\n",
      "\n",
      "    accuracy                           0.89      2868\n",
      "   macro avg       0.50      0.50      0.49      2868\n",
      "weighted avg       0.84      0.89      0.86      2868\n",
      "\n",
      "[[2556   53]\n",
      " [ 254    5]]\n"
     ]
    },
    {
     "data": {
      "image/png": "[encoded data removed]",
      "text/plain": [
       "<Figure size 576x432 with 2 Axes>"
      ]
     },
     "metadata": {},
     "output_type": "display_data"
    }
   ],
   "source": [
    "print(classification_report(y_test, y_pred))\n",
    "print(confusion_matrix(y_test, y_pred))\n",
    "categories=['Not Fraud','Fraud']\n",
    "fig, ax = plt.subplots(figsize=(8,6))\n",
    "sns.heatmap(confusion_matrix(y_test, y_pred), annot=True, fmt='g', xticklabels=categories, yticklabels=categories, ax=ax,cmap=\"YlGnBu\")\n",
    "ax.set_title('Confusion Matrix', fontsize=20)\n",
    "ax.set_xlabel('Predicted',fontsize=15)\n",
    "ax.set_ylabel('Actual',fontsize=15)\n",
    "plt.tick_params(axis='both', which='major', labelbottom = False, bottom=False, top = False, labeltop=True)\n",
    "#plt.savefig('rap_r&_heatmap.png')"
   ]
  },
  {
   "cell_type": "code",
   "execution_count": null,
   "metadata": {},
   "outputs": [],
   "source": []
  },
  {
   "cell_type": "code",
   "execution_count": 181,
   "metadata": {},
   "outputs": [
    {
     "data": {
      "text/plain": [
       "0.9881450488145049"
      ]
     },
     "execution_count": 181,
     "metadata": {},
     "output_type": "execute_result"
    }
   ],
   "source": [
    "rf = RandomForestClassifier()\n",
    "rf.fit(X_train, y_train)\n",
    "y_pred = rf.predict(X_test)\n",
    "score = rf.score(X_test, y_test)\n",
    "score"
   ]
  },
  {
   "cell_type": "code",
   "execution_count": 182,
   "metadata": {},
   "outputs": [
    {
     "name": "stdout",
     "output_type": "stream",
     "text": [
      "              precision    recall  f1-score   support\n",
      "\n",
      "           0       0.99      0.99      0.99      2609\n",
      "           1       0.93      0.94      0.93       259\n",
      "\n",
      "    accuracy                           0.99      2868\n",
      "   macro avg       0.96      0.97      0.96      2868\n",
      "weighted avg       0.99      0.99      0.99      2868\n",
      "\n",
      "[[2590   19]\n",
      " [  15  244]]\n"
     ]
    },
    {
     "data": {
      "image/png": "[encoded data removed]",
      "text/plain": [
       "<Figure size 576x432 with 2 Axes>"
      ]
     },
     "metadata": {},
     "output_type": "display_data"
    }
   ],
   "source": [
    "print(classification_report(y_test, y_pred))\n",
    "print(confusion_matrix(y_test, y_pred))\n",
    "categories=['Not Fraud','Fraud']\n",
    "fig, ax = plt.subplots(figsize=(8,6))\n",
    "sns.heatmap(confusion_matrix(y_test, y_pred), annot=True, fmt='g', xticklabels=categories, yticklabels=categories, ax=ax,cmap=\"YlGnBu\")\n",
    "ax.set_title('Confusion Matrix', fontsize=20)\n",
    "ax.set_xlabel('Predicted',fontsize=15)\n",
    "ax.set_ylabel('Actual',fontsize=15)\n",
    "plt.tick_params(axis='both', which='major', labelbottom = False, bottom=False, top = False, labeltop=True)\n",
    "#plt.savefig('rap_r&_heatmap.png')"
   ]
  },
  {
   "cell_type": "code",
   "execution_count": 184,
   "metadata": {},
   "outputs": [],
   "source": [
    "pickle.dump(logisticRegr, open('logisticRegr.pkl','wb'))\n"
   ]
  },
  {
   "cell_type": "code",
   "execution_count": 186,
   "metadata": {},
   "outputs": [
    {
     "data": {
      "text/plain": [
       "array([[0.94, 0.06],\n",
       "       [1.  , 0.  ],\n",
       "       [1.  , 0.  ],\n",
       "       ...,\n",
       "       [0.99, 0.01],\n",
       "       [0.9 , 0.1 ],\n",
       "       [0.98, 0.02]])"
      ]
     },
     "execution_count": 186,
     "metadata": {},
     "output_type": "execute_result"
    }
   ],
   "source": [
    "probs = rf.predict_proba(X_test)\n",
    "probs"
   ]
  },
  {
   "cell_type": "code",
   "execution_count": 187,
   "metadata": {},
   "outputs": [
    {
     "data": {
      "text/plain": [
       "array([0, 0, 0, ..., 0, 0, 0])"
      ]
     },
     "execution_count": 187,
     "metadata": {},
     "output_type": "execute_result"
    }
   ],
   "source": [
    "y_pred"
   ]
  },
  {
   "cell_type": "code",
   "execution_count": 191,
   "metadata": {},
   "outputs": [
    {
     "name": "stdout",
     "output_type": "stream",
     "text": [
      "Feature ranking:\n",
      "1. feature 3 (0.208375)\n",
      "2. feature 12 (0.159659)\n",
      "3. feature 4 (0.097613)\n",
      "4. feature 5 (0.094348)\n",
      "5. feature 7 (0.062781)\n",
      "6. feature 2 (0.062428)\n",
      "7. feature 1 (0.043188)\n",
      "8. feature 0 (0.042037)\n",
      "9. feature 21 (0.032686)\n",
      "10. feature 9 (0.030873)\n",
      "11. feature 10 (0.030263)\n",
      "12. feature 20 (0.026984)\n",
      "13. feature 88 (0.022245)\n",
      "14. feature 11 (0.016997)\n",
      "15. feature 6 (0.016426)\n",
      "16. feature 22 (0.010001)\n",
      "17. feature 19 (0.008452)\n",
      "18. feature 14 (0.007313)\n",
      "19. feature 32 (0.006598)\n",
      "20. feature 27 (0.003617)\n",
      "21. feature 13 (0.003557)\n",
      "22. feature 47 (0.003373)\n",
      "23. feature 16 (0.003183)\n",
      "24. feature 8 (0.002652)\n",
      "25. feature 71 (0.001651)\n",
      "26. feature 15 (0.000795)\n",
      "27. feature 46 (0.000166)\n",
      "28. feature 25 (0.000156)\n",
      "29. feature 18 (0.000152)\n",
      "30. feature 64 (0.000118)\n",
      "31. feature 53 (0.000105)\n",
      "32. feature 70 (0.000103)\n",
      "33. feature 75 (0.000096)\n",
      "34. feature 44 (0.000092)\n",
      "35. feature 29 (0.000081)\n",
      "36. feature 92 (0.000078)\n",
      "37. feature 69 (0.000065)\n",
      "38. feature 83 (0.000062)\n",
      "39. feature 24 (0.000061)\n",
      "40. feature 65 (0.000056)\n",
      "41. feature 74 (0.000052)\n",
      "42. feature 63 (0.000047)\n",
      "43. feature 73 (0.000047)\n",
      "44. feature 40 (0.000047)\n",
      "45. feature 23 (0.000039)\n",
      "46. feature 56 (0.000034)\n",
      "47. feature 85 (0.000027)\n",
      "48. feature 82 (0.000025)\n",
      "49. feature 90 (0.000024)\n",
      "50. feature 91 (0.000020)\n",
      "51. feature 52 (0.000016)\n",
      "52. feature 79 (0.000016)\n",
      "53. feature 31 (0.000015)\n",
      "54. feature 58 (0.000015)\n",
      "55. feature 57 (0.000015)\n",
      "56. feature 26 (0.000014)\n",
      "57. feature 51 (0.000014)\n",
      "58. feature 45 (0.000008)\n",
      "59. feature 38 (0.000007)\n",
      "60. feature 34 (0.000005)\n",
      "61. feature 50 (0.000005)\n",
      "62. feature 93 (0.000004)\n",
      "63. feature 76 (0.000004)\n",
      "64. feature 39 (0.000003)\n",
      "65. feature 84 (0.000002)\n",
      "66. feature 35 (0.000002)\n",
      "67. feature 30 (0.000002)\n",
      "68. feature 72 (0.000002)\n",
      "69. feature 36 (0.000001)\n",
      "70. feature 80 (0.000001)\n",
      "71. feature 87 (0.000001)\n",
      "72. feature 55 (0.000001)\n",
      "73. feature 77 (0.000000)\n",
      "74. feature 62 (0.000000)\n",
      "75. feature 89 (0.000000)\n",
      "76. feature 42 (0.000000)\n",
      "77. feature 67 (0.000000)\n",
      "78. feature 49 (0.000000)\n",
      "79. feature 43 (0.000000)\n",
      "80. feature 61 (0.000000)\n",
      "81. feature 60 (0.000000)\n",
      "82. feature 33 (0.000000)\n",
      "83. feature 37 (0.000000)\n",
      "84. feature 81 (0.000000)\n",
      "85. feature 86 (0.000000)\n",
      "86. feature 66 (0.000000)\n",
      "87. feature 48 (0.000000)\n",
      "88. feature 78 (0.000000)\n",
      "89. feature 17 (0.000000)\n",
      "90. feature 28 (0.000000)\n",
      "91. feature 68 (0.000000)\n",
      "92. feature 41 (0.000000)\n",
      "93. feature 54 (0.000000)\n",
      "94. feature 59 (0.000000)\n"
     ]
    },
    {
     "data": {
      "image/png": "[encoded data removed]",
      "text/plain": [
       "<Figure size 432x288 with 1 Axes>"
      ]
     },
     "metadata": {},
     "output_type": "display_data"
    }
   ],
   "source": [
    "importances =rf.feature_importances_\n",
    "std = np.std([tree.feature_importances_ for tree in rf.estimators_],\n",
    "             axis=0)\n",
    "indices = np.argsort(importances)[::-1]\n",
    "\n",
    "# Print the feature ranking\n",
    "print(\"Feature ranking:\")\n",
    "\n",
    "for f in range(X_test.shape[1]):\n",
    "    print(\"%d. feature %d (%f)\" % (f + 1, indices[f], importances[indices[f]]))\n",
    "\n",
    "# Plot the impurity-based feature importances of the forest\n",
    "plt.figure()\n",
    "plt.title(\"Feature importances\")\n",
    "plt.bar(range(X_test.shape[1]), importances[indices],\n",
    "        color=\"r\", yerr=std[indices], align=\"center\")\n",
    "plt.xticks(range(X_test.shape[1]), indices)\n",
    "plt.xlim([-1, X_test.shape[1]])\n",
    "plt.show()"
   ]
  },
  {
   "cell_type": "code",
   "execution_count": 192,
   "metadata": {},
   "outputs": [
    {
     "name": "stdout",
     "output_type": "stream",
     "text": [
      "<class 'pandas.core.frame.DataFrame'>\n",
      "Int64Index: 2868 entries, 10323 to 738\n",
      "Data columns (total 94 columns):\n",
      " #   Column              Non-Null Count  Dtype  \n",
      "---  ------              --------------  -----  \n",
      " 0   approx_payout_date  2868 non-null   int64  \n",
      " 1   num_order           2868 non-null   int64  \n",
      " 2   num_payouts         2868 non-null   int64  \n",
      " 3   previous_payouts    2868 non-null   int64  \n",
      " 4   sale_duration       2868 non-null   float64\n",
      " 5   sale_duration2      2868 non-null   int64  \n",
      " 6   show_map            2868 non-null   int64  \n",
      " 7   user_age            2868 non-null   int64  \n",
      " 8   venue_name          2868 non-null   int64  \n",
      " 9   cost                2868 non-null   float64\n",
      " 10  availability        2868 non-null   float64\n",
      " 11  quantity_total      2868 non-null   float64\n",
      " 12  quantity_sold       2868 non-null   int64  \n",
      " 13  AUD                 2868 non-null   uint8  \n",
      " 14  CAD                 2868 non-null   uint8  \n",
      " 15  EUR                 2868 non-null   uint8  \n",
      " 16  GBP                 2868 non-null   uint8  \n",
      " 17  MXN                 2868 non-null   uint8  \n",
      " 18  NZD                 2868 non-null   uint8  \n",
      " 19  USD                 2868 non-null   uint8  \n",
      " 20  ACH                 2868 non-null   uint8  \n",
      " 21  CHECK               2868 non-null   uint8  \n",
      " 22  Unknown             2868 non-null   uint8  \n",
      " 23  A1                  2868 non-null   uint8  \n",
      " 24  AE                  2868 non-null   uint8  \n",
      " 25  AR                  2868 non-null   uint8  \n",
      " 26  AT                  2868 non-null   uint8  \n",
      " 27  AU                  2868 non-null   uint8  \n",
      " 28  BB                  2868 non-null   uint8  \n",
      " 29  BE                  2868 non-null   uint8  \n",
      " 30  BG                  2868 non-null   uint8  \n",
      " 31  BS                  2868 non-null   uint8  \n",
      " 32  CA                  2868 non-null   uint8  \n",
      " 33  CH                  2868 non-null   uint8  \n",
      " 34  CI                  2868 non-null   uint8  \n",
      " 35  CM                  2868 non-null   uint8  \n",
      " 36  CN                  2868 non-null   uint8  \n",
      " 37  CO                  2868 non-null   uint8  \n",
      " 38  CR                  2868 non-null   uint8  \n",
      " 39  CZ                  2868 non-null   uint8  \n",
      " 40  DE                  2868 non-null   uint8  \n",
      " 41  DK                  2868 non-null   uint8  \n",
      " 42  DZ                  2868 non-null   uint8  \n",
      " 43  EC                  2868 non-null   uint8  \n",
      " 44  ES                  2868 non-null   uint8  \n",
      " 45  FI                  2868 non-null   uint8  \n",
      " 46  FR                  2868 non-null   uint8  \n",
      " 47  GB                  2868 non-null   uint8  \n",
      " 48  GH                  2868 non-null   uint8  \n",
      " 49  GR                  2868 non-null   uint8  \n",
      " 50  HR                  2868 non-null   uint8  \n",
      " 51  HU                  2868 non-null   uint8  \n",
      " 52  ID                  2868 non-null   uint8  \n",
      " 53  IE                  2868 non-null   uint8  \n",
      " 54  IL                  2868 non-null   uint8  \n",
      " 55  IM                  2868 non-null   uint8  \n",
      " 56  IN                  2868 non-null   uint8  \n",
      " 57  IS                  2868 non-null   uint8  \n",
      " 58  IT                  2868 non-null   uint8  \n",
      " 59  JE                  2868 non-null   uint8  \n",
      " 60  JM                  2868 non-null   uint8  \n",
      " 61  KE                  2868 non-null   uint8  \n",
      " 62  KH                  2868 non-null   uint8  \n",
      " 63  LB                  2868 non-null   uint8  \n",
      " 64  MA                  2868 non-null   uint8  \n",
      " 65  MX                  2868 non-null   uint8  \n",
      " 66  MY                  2868 non-null   uint8  \n",
      " 67  NG                  2868 non-null   uint8  \n",
      " 68  NI                  2868 non-null   uint8  \n",
      " 69  NL                  2868 non-null   uint8  \n",
      " 70  NZ                  2868 non-null   uint8  \n",
      " 71  NoName              2868 non-null   uint8  \n",
      " 72  PE                  2868 non-null   uint8  \n",
      " 73  PH                  2868 non-null   uint8  \n",
      " 74  PK                  2868 non-null   uint8  \n",
      " 75  PR                  2868 non-null   uint8  \n",
      " 76  PS                  2868 non-null   uint8  \n",
      " 77  PT                  2868 non-null   uint8  \n",
      " 78  QA                  2868 non-null   uint8  \n",
      " 79  RO                  2868 non-null   uint8  \n",
      " 80  RS                  2868 non-null   uint8  \n",
      " 81  RU                  2868 non-null   uint8  \n",
      " 82  SE                  2868 non-null   uint8  \n",
      " 83  SG                  2868 non-null   uint8  \n",
      " 84  SI                  2868 non-null   uint8  \n",
      " 85  TH                  2868 non-null   uint8  \n",
      " 86  TJ                  2868 non-null   uint8  \n",
      " 87  TR                  2868 non-null   uint8  \n",
      " 88  US                  2868 non-null   uint8  \n",
      " 89  UY                  2868 non-null   uint8  \n",
      " 90  VE                  2868 non-null   uint8  \n",
      " 91  VI                  2868 non-null   uint8  \n",
      " 92  VN                  2868 non-null   uint8  \n",
      " 93  ZA                  2868 non-null   uint8  \n",
      "dtypes: float64(4), int64(9), uint8(81)\n",
      "memory usage: 540.6 KB\n"
     ]
    }
   ],
   "source": [
    "X_test.info()"
   ]
  },
  {
   "cell_type": "code",
   "execution_count": null,
   "metadata": {},
   "outputs": [],
   "source": []
  },
  {
   "cell_type": "code",
   "execution_count": 194,
   "metadata": {},
   "outputs": [],
   "source": [
    "y = df1['fraud']\n",
    "X = df1[['previous_payouts', 'ticket_types']]\n"
   ]
  },
  {
   "cell_type": "code",
   "execution_count": null,
   "metadata": {},
   "outputs": [],
   "source": []
  },
  {
   "cell_type": "code",
   "execution_count": 197,
   "metadata": {},
   "outputs": [],
   "source": [
    "X_train, X_test, y_train, y_test = train_test_split(X, y, test_size=0.2, random_state=42, stratify = y)  "
   ]
  },
  {
   "cell_type": "code",
   "execution_count": 198,
   "metadata": {},
   "outputs": [],
   "source": [
    "oversample = SMOTE()\n",
    "X_train, y_train = oversample.fit_resample(X_train, y_train)"
   ]
  },
  {
   "cell_type": "code",
   "execution_count": 199,
   "metadata": {},
   "outputs": [
    {
     "data": {
      "text/plain": [
       "0.9626917712691772"
      ]
     },
     "execution_count": 199,
     "metadata": {},
     "output_type": "execute_result"
    }
   ],
   "source": [
    "rf = RandomForestClassifier()\n",
    "rf.fit(X_train, y_train)\n",
    "print(y_pred = rf.predict(X_test))\n",
    "\n",
    "score = rf.score(X_test, y_test)\n",
    "score"
   ]
  },
  {
   "cell_type": "code",
   "execution_count": 200,
   "metadata": {},
   "outputs": [
    {
     "name": "stdout",
     "output_type": "stream",
     "text": [
      "              precision    recall  f1-score   support\n",
      "\n",
      "           0       0.99      0.97      0.98      2609\n",
      "           1       0.75      0.88      0.81       259\n",
      "\n",
      "    accuracy                           0.96      2868\n",
      "   macro avg       0.87      0.92      0.89      2868\n",
      "weighted avg       0.97      0.96      0.96      2868\n",
      "\n",
      "[[2534   75]\n",
      " [  32  227]]\n"
     ]
    },
    {
     "data": {
      "image/png": "[encoded data removed]",
      "text/plain": [
       "<Figure size 576x432 with 2 Axes>"
      ]
     },
     "metadata": {},
     "output_type": "display_data"
    }
   ],
   "source": [
    "print(classification_report(y_test, y_pred))\n",
    "print(confusion_matrix(y_test, y_pred))\n",
    "categories=['Not Fraud','Fraud']\n",
    "fig, ax = plt.subplots(figsize=(8,6))\n",
    "sns.heatmap(confusion_matrix(y_test, y_pred), annot=True, fmt='g', xticklabels=categories, yticklabels=categories, ax=ax,cmap=\"YlGnBu\")\n",
    "ax.set_title('Confusion Matrix', fontsize=20)\n",
    "ax.set_xlabel('Predicted',fontsize=15)\n",
    "ax.set_ylabel('Actual',fontsize=15)\n",
    "plt.tick_params(axis='both', which='major', labelbottom = False, bottom=False, top = False, labeltop=True)\n",
    "#plt.savefig('rap_r&_heatmap.png')"
   ]
  },
  {
   "cell_type": "code",
   "execution_count": 203,
   "metadata": {},
   "outputs": [],
   "source": []
  },
  {
   "cell_type": "code",
   "execution_count": 204,
   "metadata": {},
   "outputs": [],
   "source": []
  },
  {
   "cell_type": "code",
   "execution_count": null,
   "metadata": {},
   "outputs": [],
   "source": []
  },
  {
   "cell_type": "code",
   "execution_count": null,
   "metadata": {},
   "outputs": [],
   "source": []
  }
 ],
 "metadata": {
  "kernelspec": {
   "display_name": "Python 3",
   "language": "python",
   "name": "python3"
  },
  "language_info": {
   "codemirror_mode": {
    "name": "ipython",
    "version": 3
   },
   "file_extension": ".py",
   "mimetype": "text/x-python",
   "name": "python",
   "nbconvert_exporter": "python",
   "pygments_lexer": "ipython3",
   "version": "3.7.7"
  }
 },
 "nbformat": 4,
 "nbformat_minor": 4
}
